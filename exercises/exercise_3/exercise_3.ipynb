{
 "cells": [
  {
   "cell_type": "markdown",
   "metadata": {},
   "source": [
    "# Import"
   ]
  },
  {
   "cell_type": "code",
   "execution_count": 1,
   "metadata": {
    "collapsed": false
   },
   "outputs": [],
   "source": [
    "import numpy as np\n",
    "import matplotlib.pyplot as plt\n",
    "import matplotlib.pylab as plb\n",
    "%matplotlib inline\n",
    "import sys\n",
    "path = '../../scripts/'\n",
    "sys.path.insert(0,path)\n",
    "from RipserToDict import ripser_to_dict\n",
    "from PlotPersistence import plot_persistence"
   ]
  },
  {
   "cell_type": "markdown",
   "metadata": {},
   "source": [
    "# Parameters"
   ]
  },
  {
   "cell_type": "code",
   "execution_count": 2,
   "metadata": {
    "collapsed": true
   },
   "outputs": [],
   "source": [
    "params = dict()\n",
    "params['dim'] = 2\n",
    "params['threshold'] = 10\n",
    "params['n_points'] = 200\n",
    "params['seed'] = 42\n",
    "params['max_persistence'] = 2.5"
   ]
  },
  {
   "cell_type": "markdown",
   "metadata": {},
   "source": [
    "# Functions"
   ]
  },
  {
   "cell_type": "raw",
   "metadata": {
    "collapsed": false
   },
   "source": [
    "def ripser_to_dict(file,params):\n",
    "    thr = params['max_persistence']\n",
    "    data = dict()\n",
    "    data['file'] = file\n",
    "\n",
    "    with open(file, 'r') as f:\n",
    "        \n",
    "        # first line\n",
    "        line = f.readline()\n",
    "        word = line.split(' ')\n",
    "        data['nb_neuron'] = int(word[3])\n",
    "        \n",
    "        # second line\n",
    "        line = f.readline()\n",
    "        word = line.split(' ')\n",
    "        data['range'] = [float(w) for w in word[2][1:-2].split(',')] #'not implemented' \n",
    "\n",
    "        # parse until the end of the line\n",
    "        for line in f:\n",
    "            if 'persistence' in line:\n",
    "                key = int(line[29:-2])\n",
    "                data[key] = []\n",
    "            else:\n",
    "                word = line.split(',')\n",
    "                if not len(word) == 2:\n",
    "                    print('Unexpected number of word: ',word)\n",
    "                    break\n",
    "                if ' ' in word[1]:\n",
    "                    word_2 = thr\n",
    "                else:\n",
    "                    word_2 = float(word[1][:-2])\n",
    "                    if word_2 > thr:\n",
    "                        print('max_persistence is too small')\n",
    "                data[key].append([float(word[0][2:]),word_2])\n",
    "            \n",
    "    # post processing\n",
    "    temp = []\n",
    "    for k,v in data.items():\n",
    "        if v == []:\n",
    "            temp.append(k)\n",
    "        elif type(k) == int:\n",
    "            data[k] = np.array(v)\n",
    "            \n",
    "        for k in temp:\n",
    "            data.pop(k)\n",
    "        \n",
    "    return data"
   ]
  },
  {
   "cell_type": "code",
   "execution_count": 3,
   "metadata": {
    "collapsed": false
   },
   "outputs": [],
   "source": [
    "def create_torus_distance_matrix(params):\n",
    "    n_points = params['n_points']\n",
    "    seed = params['seed']\n",
    "    \n",
    "    # create random points\n",
    "    np.random.seed(seed=seed)\n",
    "    random_points = 2*np.pi*np.random.rand(2,n_points)\n",
    "    R4_coords = np.zeros((4,n_points))\n",
    "    R4_coords[0,:] = np.cos(random_points[0,:])\n",
    "    R4_coords[1,:] = np.sin(random_points[0,:])\n",
    "    R4_coords[2,:] = np.cos(random_points[1,:])\n",
    "    R4_coords[3,:] = np.sin(random_points[1,:])\n",
    "    \n",
    "    # calculate distances\n",
    "    distance_matrix = np.zeros((n_points,n_points))\n",
    "    for i in range(n_points):\n",
    "        for j in range(n_points):\n",
    "            distance_matrix[i,j] = np.sqrt(\n",
    "            (R4_coords[0,i] - R4_coords[0,j])**2\n",
    "            + (R4_coords[1,i] - R4_coords[1,j])**2\n",
    "            + (R4_coords[2,i] - R4_coords[2,j])**2\n",
    "            + (R4_coords[3,i] - R4_coords[3,j])**2)\n",
    "            \n",
    "    params['shape'] = 'torus'\n",
    "    return distance_matrix, params"
   ]
  },
  {
   "cell_type": "raw",
   "metadata": {
    "collapsed": true
   },
   "source": [
    "def plot_persistence(data,params):\n",
    "    dim = params['dim']\n",
    "    thr = params['max_persistence']\n",
    "    fig = plt.figure(figsize = (8,8))\n",
    "    ax = fig.add_subplot(1,1,1)\n",
    "    ax.plot([0,thr],[0,thr],'k')\n",
    "    for d in range(dim+1):\n",
    "        data_array = np.array(data[d])\n",
    "        ax.plot(data_array[:,0],data_array[:,1],'x',label='dimension '+str(d))\n",
    "        data_array = []\n",
    "    ax.legend(loc=4)\n",
    "    ax.set_xlabel('birth')\n",
    "    ax.set_ylabel('death')\n",
    "    ax.axis([0,thr,0,thr])\n",
    "    title = params.copy()\n",
    "    del title['dim']\n",
    "    del title['max_persistence']\n",
    "    ax.set_title('persistence diagram with parameters:\\n' + str(title))\n",
    "    return fig\n",
    "    "
   ]
  },
  {
   "cell_type": "markdown",
   "metadata": {},
   "source": [
    "# Calculations"
   ]
  },
  {
   "cell_type": "code",
   "execution_count": 4,
   "metadata": {
    "collapsed": false
   },
   "outputs": [],
   "source": [
    "distance_matrix, params = create_torus_distance_matrix(params)"
   ]
  },
  {
   "cell_type": "code",
   "execution_count": 5,
   "metadata": {
    "collapsed": true
   },
   "outputs": [],
   "source": [
    "# export to temporary file\n",
    "np.savetxt(\"temp_distance.txt\", distance_matrix, delimiter=\",\")"
   ]
  },
  {
   "cell_type": "code",
   "execution_count": 6,
   "metadata": {
    "collapsed": false
   },
   "outputs": [],
   "source": [
    "!cd ../../../ripser; \\\n",
    "./ripser --format distance --dim {params['dim']} --threshold {params['threshold']} \\\n",
    "../topology_immersion_Henrik/exercises/exercise_3/temp_distance.txt \\\n",
    "> ../topology_immersion_Henrik/exercises/exercise_3/temp_persistence.txt"
   ]
  },
  {
   "cell_type": "code",
   "execution_count": 7,
   "metadata": {
    "collapsed": false
   },
   "outputs": [],
   "source": [
    "# extract data\n",
    "data = ripser_to_dict('temp_persistence.txt',params)"
   ]
  },
  {
   "cell_type": "code",
   "execution_count": 8,
   "metadata": {
    "collapsed": false
   },
   "outputs": [
    {
     "data": {
      "image/png": "[encoded data removed]",
      "text/plain": [
       "<matplotlib.figure.Figure at 0x103f64940>"
      ]
     },
     "metadata": {},
     "output_type": "display_data"
    }
   ],
   "source": [
    "# plot diagrams\n",
    "fig = plot_persistence(data,params)"
   ]
  },
  {
   "cell_type": "code",
   "execution_count": 9,
   "metadata": {
    "collapsed": true
   },
   "outputs": [],
   "source": [
    "# save figure\n",
    "fig.savefig('plots/' + str(params['seed']) + '.eps')"
   ]
  }
 ],
 "metadata": {
  "kernelspec": {
   "display_name": "Python [Root]",
   "language": "python",
   "name": "Python [Root]"
  },
  "language_info": {
   "codemirror_mode": {
    "name": "ipython",
    "version": 3
   },
   "file_extension": ".py",
   "mimetype": "text/x-python",
   "name": "python",
   "nbconvert_exporter": "python",
   "pygments_lexer": "ipython3",
   "version": "3.5.2"
  }
 },
 "nbformat": 4,
 "nbformat_minor": 0
}
