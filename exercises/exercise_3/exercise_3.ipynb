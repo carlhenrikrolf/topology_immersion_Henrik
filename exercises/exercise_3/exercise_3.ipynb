{
 "cells": [
  {
   "cell_type": "markdown",
   "metadata": {},
   "source": [
    "# Import"
   ]
  },
  {
   "cell_type": "code",
   "execution_count": 1,
   "metadata": {
    "collapsed": false
   },
   "outputs": [],
   "source": [
    "import numpy as np\n",
    "import matplotlib.pyplot as plt\n",
    "import matplotlib.pylab as plb\n",
    "%matplotlib inline\n",
    "#import subprocess\n",
    "#import sys\n",
    "#sys.path.insert(0, '../../scripts')\n",
    "#from ripser_to_dict import *"
   ]
  },
  {
   "cell_type": "markdown",
   "metadata": {},
   "source": [
    "# Parameters"
   ]
  },
  {
   "cell_type": "code",
   "execution_count": 2,
   "metadata": {
    "collapsed": true
   },
   "outputs": [],
   "source": [
    "n_points = 200\n",
    "seed = 11\n",
    "dim = 2\n",
    "threshold = 10\n",
    "thr = 2"
   ]
  },
  {
   "cell_type": "markdown",
   "metadata": {},
   "source": [
    "# Functions"
   ]
  },
  {
   "cell_type": "code",
   "execution_count": 3,
   "metadata": {
    "collapsed": false
   },
   "outputs": [],
   "source": [
    "def ripser_to_dict(file,thr):\n",
    "    data = dict()\n",
    "    data['file'] = file\n",
    "    \n",
    "\n",
    "    with open(file, 'r') as f:\n",
    "        \n",
    "        # first line\n",
    "        line = f.readline()\n",
    "        word = line.split(' ')\n",
    "        data['nb_neuron'] = int(word[3])\n",
    "        \n",
    "        # second line\n",
    "        line = f.readline()\n",
    "        word = line.split(' ')\n",
    "        data['range'] = 'not implemented' #[float(w) for w in word[2][1:-2].split]\n",
    "\n",
    "        # parse until the end of the line\n",
    "        for line in f:\n",
    "            if 'persistence' in line:\n",
    "                key = int(line[29:-2])\n",
    "                data[key] = []\n",
    "            else:\n",
    "                word = line.split(',')\n",
    "                if not len(word) == 2:\n",
    "                    print('Unexpected number of word: ',word)\n",
    "                    break\n",
    "                if ' ' in word[1]:\n",
    "                    word_2 = thr\n",
    "                else:\n",
    "                    word_2 = float(word[1][:-2])\n",
    "                data[key].append([float(word[0][2:]),word_2])\n",
    "            \n",
    "    # post processing\n",
    "    temp = []\n",
    "    for k,v in data.items():\n",
    "        if v == []:\n",
    "            temp.append(k)\n",
    "        elif type(k) == int:\n",
    "            data[k] = np.array(v)\n",
    "            \n",
    "        for k in temp:\n",
    "            data.pop(k)\n",
    "        \n",
    "        return data"
   ]
  },
  {
   "cell_type": "code",
   "execution_count": 4,
   "metadata": {
    "collapsed": false
   },
   "outputs": [],
   "source": [
    "def create_torus_distance_matrix(n_points,seed):\n",
    "    \n",
    "    # create random points\n",
    "    np.random.seed(seed=seed)\n",
    "    random_points = 2*np.pi*np.random.rand(2,n_points)\n",
    "    R4_coords = np.zeros((4,n_points))\n",
    "    R4_coords[0,:] = np.cos(random_points[0,:])\n",
    "    R4_coords[1,:] = np.sin(random_points[0,:])\n",
    "    R4_coords[2,:] = np.cos(random_points[1,:])\n",
    "    R4_coords[3,:] = np.sin(random_points[1,:])\n",
    "    \n",
    "    # calculate distances\n",
    "    distance_matrix = np.zeros((n_points,n_points))\n",
    "    for i in range(n_points):\n",
    "        for j in range(n_points):\n",
    "            distance_matrix[i,j] = np.sqrt(\n",
    "            (R4_coords[0,i] - R4_coords[0,j])**2\n",
    "            + (R4_coords[1,i] - R4_coords[1,j])**2\n",
    "            + (R4_coords[2,i] - R4_coords[2,j])**2\n",
    "            + (R4_coords[3,i] - R4_coords[3,j])**2)\n",
    "    return distance_matrix"
   ]
  },
  {
   "cell_type": "code",
   "execution_count": 5,
   "metadata": {
    "collapsed": true
   },
   "outputs": [],
   "source": [
    "def plot_persistence(data,thr,dim):\n",
    "    plt.figure(figsize = (10,10))\n",
    "    plt.plot([0,thr],[0,thr],'k')\n",
    "    for d in range(dim+1):\n",
    "        data_array = np.array(data[d])\n",
    "        plt.plot(data_array[:,0],data_array[:,1],'x',label='dimension '+str(d))\n",
    "        data_array = []\n",
    "    plt.legend(loc=4)\n",
    "    plt.xlabel('birth')\n",
    "    plt.ylabel('death')\n",
    "    #plt.axis('equal')\n",
    "    #plt.axis([0, thr, 0, thr])\n",
    "    "
   ]
  },
  {
   "cell_type": "markdown",
   "metadata": {},
   "source": [
    "# Calculations"
   ]
  },
  {
   "cell_type": "code",
   "execution_count": 6,
   "metadata": {
    "collapsed": false
   },
   "outputs": [
    {
     "name": "stdout",
     "output_type": "stream",
     "text": [
      "[[ 0.          2.22113521  2.41814785 ...,  1.35027388  2.04935121\n",
      "   1.39157952]\n",
      " [ 2.22113521  0.          2.08852292 ...,  2.22740532  0.75505822\n",
      "   2.75412789]\n",
      " [ 2.41814785  2.08852292  0.         ...,  1.47681747  1.9599981\n",
      "   1.79711119]\n",
      " ..., \n",
      " [ 1.35027388  2.22740532  1.47681747 ...,  0.          1.83236855\n",
      "   1.24438689]\n",
      " [ 2.04935121  0.75505822  1.9599981  ...,  1.83236855  0.          2.57764109]\n",
      " [ 1.39157952  2.75412789  1.79711119 ...,  1.24438689  2.57764109  0.        ]] (200, 200)\n"
     ]
    }
   ],
   "source": [
    "distance_matrix = create_torus_distance_matrix(n_points,seed)\n",
    "print(distance_matrix, np.shape(distance_matrix))"
   ]
  },
  {
   "cell_type": "code",
   "execution_count": 7,
   "metadata": {
    "collapsed": true
   },
   "outputs": [],
   "source": [
    "# export to temporary file\n",
    "np.savetxt(\"temp_distance.txt\", distance_matrix, delimiter=\",\")"
   ]
  },
  {
   "cell_type": "code",
   "execution_count": 8,
   "metadata": {
    "collapsed": false
   },
   "outputs": [],
   "source": [
    "# go to terminal\n",
    "#process = subprocess.Popen(['cd ../../../ripser; ./ripser --format distance --dim ', str(dim),' --threshold ', str(threshold), ' ../topology_immersion_Henrik/exercises/exercise_3/temp_distance.txt >> ../topology_immersion_Henrik/exercises/exercise_3/temp_persistence.txt'], stdout=subprocess.PIPE, shell=True)\n",
    "#proc_stdout = process.communicate()[0]\n",
    "#print(proc_stdout)"
   ]
  },
  {
   "cell_type": "code",
   "execution_count": 9,
   "metadata": {
    "collapsed": false
   },
   "outputs": [],
   "source": [
    "!cd ../../../ripser; \\\n",
    "./ripser --format distance --dim {dim} --threshold {threshold} \\\n",
    "../topology_immersion_Henrik/exercises/exercise_3/temp_distance.txt \\\n",
    "> ../topology_immersion_Henrik/exercises/exercise_3/temp_persistence.txt"
   ]
  },
  {
   "cell_type": "code",
   "execution_count": 10,
   "metadata": {
    "collapsed": false
   },
   "outputs": [],
   "source": [
    "# extract data\n",
    "data = ripser_to_dict('temp_persistence.txt',thr)"
   ]
  },
  {
   "cell_type": "code",
   "execution_count": 11,
   "metadata": {
    "collapsed": false
   },
   "outputs": [
    {
     "data": {
      "image/png": "[encoded data removed]",
      "text/plain": [
       "<matplotlib.figure.Figure at 0x10cb18940>"
      ]
     },
     "metadata": {},
     "output_type": "display_data"
    }
   ],
   "source": [
    "# plot diagrams\n",
    "plot_persistence(data,thr,dim)"
   ]
  },
  {
   "cell_type": "code",
   "execution_count": null,
   "metadata": {
    "collapsed": true
   },
   "outputs": [],
   "source": []
  }
 ],
 "metadata": {
  "kernelspec": {
   "display_name": "Python [Root]",
   "language": "python",
   "name": "Python [Root]"
  },
  "language_info": {
   "codemirror_mode": {
    "name": "ipython",
    "version": 3
   },
   "file_extension": ".py",
   "mimetype": "text/x-python",
   "name": "python",
   "nbconvert_exporter": "python",
   "pygments_lexer": "ipython3",
   "version": "3.5.2"
  }
 },
 "nbformat": 4,
 "nbformat_minor": 0
}
