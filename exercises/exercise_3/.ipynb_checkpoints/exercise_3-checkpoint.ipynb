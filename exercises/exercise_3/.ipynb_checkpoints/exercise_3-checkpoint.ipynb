{
 "cells": [
  {
   "cell_type": "markdown",
   "metadata": {},
   "source": [
    "# Import"
   ]
  },
  {
   "cell_type": "code",
   "execution_count": 15,
   "metadata": {
    "collapsed": false
   },
   "outputs": [],
   "source": [
    "import numpy as np\n",
    "import matplotlib.pyplot as plt\n",
    "import matplotlib.pylab as plb\n",
    "%matplotlib inline\n",
    "import subprocess\n",
    "#import sys\n",
    "#sys.path.insert(0, '../../scripts')\n",
    "#from ripser_to_dict import *"
   ]
  },
  {
   "cell_type": "markdown",
   "metadata": {},
   "source": [
    "# Parameters"
   ]
  },
  {
   "cell_type": "code",
   "execution_count": 17,
   "metadata": {
    "collapsed": true
   },
   "outputs": [],
   "source": [
    "n_points = 200\n",
    "seed = 111\n",
    "dim = 2\n",
    "threshold = 10\n",
    "thr = 5"
   ]
  },
  {
   "cell_type": "markdown",
   "metadata": {},
   "source": [
    "# Functions"
   ]
  },
  {
   "cell_type": "code",
   "execution_count": 18,
   "metadata": {
    "collapsed": false
   },
   "outputs": [],
   "source": [
    "def ripser_to_dict(file,thr):\n",
    "    data = dict()\n",
    "    data['file'] = file\n",
    "    \n",
    "\n",
    "    with open(file, 'r') as f:\n",
    "        \n",
    "        # first line\n",
    "        line = f.readline()\n",
    "        word = line.split(' ')\n",
    "        data['nb_neuron'] = int(word[3])\n",
    "        \n",
    "        # second line\n",
    "        line = f.readline()\n",
    "        word = line.split(' ')\n",
    "        data['range'] = 'not implemented' #[float(w) for w in word[2][1:-2].split]\n",
    "\n",
    "        # parse until the end of the line\n",
    "        for line in f:\n",
    "            if 'persistence' in line:\n",
    "                key = int(line[29:-2])\n",
    "                data[key] = []\n",
    "            else:\n",
    "                word = line.split(',')\n",
    "                if not len(word) == 2:\n",
    "                    print('Unexpected number of word: ',word)\n",
    "                    break\n",
    "                if ' ' in word[1]:\n",
    "                    word_2 = thr\n",
    "                else:\n",
    "                    word_2 = float(word[1][:-2])\n",
    "                data[key].append([float(word[0][2:]),word_2])\n",
    "            \n",
    "    # post processing\n",
    "    temp = []\n",
    "    for k,v in data.items():\n",
    "        if v == []:\n",
    "            temp.append(k)\n",
    "        elif type(k) == int:\n",
    "            data[k] = np.array(v)\n",
    "            \n",
    "        for k in temp:\n",
    "            data.pop(k)\n",
    "        \n",
    "        return data"
   ]
  },
  {
   "cell_type": "code",
   "execution_count": 19,
   "metadata": {
    "collapsed": false
   },
   "outputs": [],
   "source": [
    "def create_torus_distance_matrix(n_points,seed):\n",
    "    \n",
    "    # create random points\n",
    "    np.random.seed(seed=seed)\n",
    "    random_points = 2*np.pi*np.random.rand(2,n_points)\n",
    "    R4_coords = np.zeros((4,n_points))\n",
    "    R4_coords[0,:] = np.cos(random_points[0,:])\n",
    "    R4_coords[1,:] = np.sin(random_points[0,:])\n",
    "    R4_coords[2,:] = np.cos(random_points[1,:])\n",
    "    R4_coords[3,:] = np.sin(random_points[1,:])\n",
    "    \n",
    "    # calculate distances\n",
    "    distance_matrix = np.zeros((n_points,n_points))\n",
    "    for i in range(n_points):\n",
    "        for j in range(n_points):\n",
    "            distance_matrix[i,j] = np.sqrt(\n",
    "            (R4_coords[0,i] - R4_coords[0,j])**2\n",
    "            + (R4_coords[1,i] - R4_coords[1,j])**2\n",
    "            + (R4_coords[2,i] - R4_coords[2,j])**2\n",
    "            + (R4_coords[3,i] - R4_coords[3,j])**2)\n",
    "    return distance_matrix"
   ]
  },
  {
   "cell_type": "code",
   "execution_count": 20,
   "metadata": {
    "collapsed": true
   },
   "outputs": [],
   "source": [
    "def plot_persistence(data,thr,dim):\n",
    "    fig = plb.plot([0,thr],[0,thr])\n",
    "    for d in range(dim):\n",
    "        data_array = np.array(data[d])\n",
    "        fig = plb.plot(data_array[:,0],data_array[:,1],'o',label=str(d))\n",
    "        data_array = []\n",
    "    fig = plb.legend(loc=4)\n",
    "    fig = plb.xlabel('birth')\n",
    "    fig = plb.ylabel('death')"
   ]
  },
  {
   "cell_type": "markdown",
   "metadata": {},
   "source": [
    "# Calculations"
   ]
  },
  {
   "cell_type": "code",
   "execution_count": 47,
   "metadata": {
    "collapsed": false
   },
   "outputs": [
    {
     "name": "stdout",
     "output_type": "stream",
     "text": [
      "[[ 0.          2.23397082  1.84307208 ...,  2.40938165  0.64070061\n",
      "   2.09483869]\n",
      " [ 2.23397082  0.          2.47335032 ...,  2.30023536  1.9454537\n",
      "   2.49487606]\n",
      " [ 1.84307208  2.47335032  0.         ...,  2.42440788  1.86740901\n",
      "   2.17816163]\n",
      " ..., \n",
      " [ 2.40938165  2.30023536  2.42440788 ...,  0.          2.52231322\n",
      "   0.78041752]\n",
      " [ 0.64070061  1.9454537   1.86740901 ...,  2.52231322  0.          2.17462534]\n",
      " [ 2.09483869  2.49487606  2.17816163 ...,  0.78041752  2.17462534  0.        ]] (200, 200)\n"
     ]
    }
   ],
   "source": [
    "distance_matrix = create_torus_distance_matrix(n_points,seed)\n",
    "print(distance_matrix, np.shape(distance_matrix))"
   ]
  },
  {
   "cell_type": "code",
   "execution_count": 48,
   "metadata": {
    "collapsed": true
   },
   "outputs": [],
   "source": [
    "# export to temporary file\n",
    "np.savetxt(\"temp_distance.txt\", distance_matrix, delimiter=\",\")"
   ]
  },
  {
   "cell_type": "code",
   "execution_count": 30,
   "metadata": {
    "collapsed": false
   },
   "outputs": [
    {
     "name": "stdout",
     "output_type": "stream",
     "text": [
      "b''\n"
     ]
    }
   ],
   "source": [
    "# go to terminal\n",
    "#process = subprocess.Popen(['cd ../../../ripser; ./ripser --format distance --dim ', str(dim),' --threshold ', str(threshold), ' ../topology_immersion_Henrik/exercises/exercise_3/temp_distance.txt >> ../topology_immersion_Henrik/exercises/exercise_3/temp_persistence.txt'], stdout=subprocess.PIPE, shell=True)\n",
    "#proc_stdout = process.communicate()[0]\n",
    "#print(proc_stdout)"
   ]
  },
  {
   "cell_type": "code",
   "execution_count": 49,
   "metadata": {
    "collapsed": false
   },
   "outputs": [],
   "source": [
    "!cd ../../../ripser; \\\n",
    "./ripser --format distance --dim {dim} --threshold {threshold} \\\n",
    "../topology_immersion_Henrik/exercises/exercise_3/temp_distance.txt \\\n",
    "> ../topology_immersion_Henrik/exercises/exercise_3/temp_persistence.txt"
   ]
  },
  {
   "cell_type": "code",
   "execution_count": 50,
   "metadata": {
    "collapsed": false
   },
   "outputs": [
    {
     "name": "stdout",
     "output_type": "stream",
     "text": [
      "{'range': 'not implemented', 0: [[0.0, 0.0313212], [0.0, 0.0328716], [0.0, 0.0384168], [0.0, 0.0403185], [0.0, 0.0535], [0.0, 0.054474], [0.0, 0.0571895], [0.0, 0.0577608], [0.0, 0.0604225], [0.0, 0.0659293], [0.0, 0.0687031], [0.0, 0.0696959], [0.0, 0.0699387], [0.0, 0.0707297], [0.0, 0.0729788], [0.0, 0.0737525], [0.0, 0.0810976], [0.0, 0.0828258], [0.0, 0.0845149], [0.0, 0.0863883], [0.0, 0.0903726], [0.0, 0.091358], [0.0, 0.0934088], [0.0, 0.0967189], [0.0, 0.0982039], [0.0, 0.0994298], [0.0, 0.101504], [0.0, 0.105231], [0.0, 0.106948], [0.0, 0.11329], [0.0, 0.136557], [0.0, 0.137067], [0.0, 0.138653], [0.0, 0.143988], [0.0, 0.144842], [0.0, 0.147511], [0.0, 0.151312], [0.0, 0.152327], [0.0, 0.153646], [0.0, 0.156069], [0.0, 0.158121], [0.0, 0.160248], [0.0, 0.161301], [0.0, 0.164274], [0.0, 0.173173], [0.0, 0.175194], [0.0, 0.175323], [0.0, 0.17537], [0.0, 0.176858], [0.0, 0.177377], [0.0, 0.178754], [0.0, 0.182401], [0.0, 0.184341], [0.0, 0.185268], [0.0, 0.186893], [0.0, 0.187478], [0.0, 0.193023], [0.0, 0.195286], [0.0, 0.196359], [0.0, 0.196922], [0.0, 0.199351], [0.0, 0.200437], [0.0, 0.205786], [0.0, 0.205951], [0.0, 0.206235], [0.0, 0.209955], [0.0, 0.214514], [0.0, 0.216898], [0.0, 0.217667], [0.0, 0.220218], [0.0, 0.222177], [0.0, 0.222688], [0.0, 0.223371], [0.0, 0.228144], [0.0, 0.230637], [0.0, 0.23087], [0.0, 0.232958], [0.0, 0.234998], [0.0, 0.23671], [0.0, 0.240169], [0.0, 0.240877], [0.0, 0.241047], [0.0, 0.242513], [0.0, 0.244729], [0.0, 0.245004], [0.0, 0.249291], [0.0, 0.25505], [0.0, 0.258007], [0.0, 0.259332], [0.0, 0.260278], [0.0, 0.263882], [0.0, 0.26467], [0.0, 0.267538], [0.0, 0.272866], [0.0, 0.274779], [0.0, 0.275208], [0.0, 0.276556], [0.0, 0.279829], [0.0, 0.281621], [0.0, 0.283892], [0.0, 0.284391], [0.0, 0.286137], [0.0, 0.289355], [0.0, 0.298347], [0.0, 0.30041], [0.0, 0.302749], [0.0, 0.307827], [0.0, 0.314226], [0.0, 0.314398], [0.0, 0.314434], [0.0, 0.317945], [0.0, 0.318811], [0.0, 0.318893], [0.0, 0.32012], [0.0, 0.320385], [0.0, 0.321822], [0.0, 0.322156], [0.0, 0.323387], [0.0, 0.326153], [0.0, 0.327103], [0.0, 0.329373], [0.0, 0.332013], [0.0, 0.332015], [0.0, 0.332617], [0.0, 0.335127], [0.0, 0.336908], [0.0, 0.338909], [0.0, 0.341239], [0.0, 0.34304], [0.0, 0.34569], [0.0, 0.348573], [0.0, 0.349512], [0.0, 0.351058], [0.0, 0.351882], [0.0, 0.354864], [0.0, 0.357918], [0.0, 0.35802], [0.0, 0.362401], [0.0, 0.363517], [0.0, 0.370528], [0.0, 0.370969], [0.0, 0.373309], [0.0, 0.373326], [0.0, 0.373906], [0.0, 0.37454], [0.0, 0.376415], [0.0, 0.378182], [0.0, 0.379053], [0.0, 0.387876], [0.0, 0.393976], [0.0, 0.39614], [0.0, 0.396692], [0.0, 0.399763], [0.0, 0.402004], [0.0, 0.402055], [0.0, 0.404037], [0.0, 0.406911], [0.0, 0.407538], [0.0, 0.409158], [0.0, 0.409513], [0.0, 0.409563], [0.0, 0.410071], [0.0, 0.410429], [0.0, 0.414122], [0.0, 0.415296], [0.0, 0.422497], [0.0, 0.423103], [0.0, 0.426109], [0.0, 0.426795], [0.0, 0.430524], [0.0, 0.433746], [0.0, 0.440501], [0.0, 0.448769], [0.0, 0.453654], [0.0, 0.453775], [0.0, 0.454821], [0.0, 0.464511], [0.0, 0.466064], [0.0, 0.466338], [0.0, 0.46999], [0.0, 0.475403], [0.0, 0.477246], [0.0, 0.480598], [0.0, 0.487019], [0.0, 0.49286], [0.0, 0.4941], [0.0, 0.500056], [0.0, 0.502164], [0.0, 0.502201], [0.0, 0.51202], [0.0, 0.512052], [0.0, 0.517775], [0.0, 0.520527], [0.0, 0.521199], [0.0, 0.522929], [0.0, 0.525887], [0.0, 0.541123], [0.0, 0.563007], [0.0, 0.570304], [0.0, 5]], 2: [[1.85487, 1.85818], [1.85327, 1.85656], [1.84214, 1.85748], [1.83369, 1.8504], [1.82959, 1.83401], [1.82516, 1.83043], [1.82251, 1.85228], [1.81858, 1.85415], [1.80966, 1.84504], [1.80955, 1.82527], [1.80584, 1.83799], [1.80575, 1.86853], [1.8038, 1.81121], [1.80205, 1.83626], [1.80109, 1.8324], [1.80104, 1.82646], [1.79983, 1.81649], [1.79663, 1.81552], [1.79498, 1.87438], [1.79471, 1.84168], [1.79121, 1.80174], [1.78916, 1.84715], [1.78852, 1.84767], [1.7876, 1.85926], [1.7874, 1.83775], [1.78642, 1.79158], [1.78539, 1.79469], [1.78469, 1.79347], [1.78296, 1.82576], [1.78228, 1.84523], [1.78217, 1.80957], [1.78192, 1.86174], [1.78098, 1.80317], [1.77949, 1.78046], [1.77746, 1.82483], [1.77601, 1.82113], [1.77367, 1.84394], [1.773, 1.82573], [1.77291, 1.82347], [1.77284, 1.85751], [1.77118, 1.85174], [1.77052, 1.85127], [1.76626, 1.86441], [1.7645, 1.8393], [1.76317, 1.82512], [1.76181, 1.84786], [1.76116, 1.84385], [1.75989, 1.84522], [1.75985, 1.84863], [1.75933, 1.85686], [1.24744, 1.85868], [1.01506, 1.04114], [0.865508, 0.87175]], 1: [[1.08497, 1.14912], [1.04402, 1.08372], [0.855783, 0.974658], [0.745166, 0.792038], [0.713354, 1.07003], [0.710921, 0.726312], [0.693321, 0.919914], [0.679436, 0.726968], [0.667027, 0.676789], [0.65882, 0.749175], [0.649174, 0.658832], [0.638834, 0.708342], [0.636869, 0.855045], [0.634141, 0.656604], [0.629555, 0.701343], [0.624883, 0.795772], [0.617037, 0.719912], [0.616544, 0.994266], [0.614859, 0.881338], [0.598235, 0.743351], [0.596862, 0.864627], [0.596568, 0.625348], [0.591138, 1.11722], [0.590887, 1.20785], [0.584776, 1.2103], [0.581444, 1.04089], [0.579018, 1.21342], [0.568322, 0.762429], [0.565185, 0.65097], [0.559899, 0.623952], [0.547839, 0.579398], [0.544431, 0.624103], [0.542155, 0.610336], [0.539476, 0.54293], [0.533802, 0.567851], [0.531216, 0.600565], [0.528315, 0.666751], [0.526476, 0.757588], [0.52547, 1.75386], [0.519909, 1.75589], [0.515401, 0.556793], [0.512093, 0.53826], [0.507731, 0.704527], [0.503252, 0.812512], [0.490967, 0.623808], [0.486331, 0.55961], [0.480036, 0.724745], [0.463985, 0.53078], [0.458577, 0.527845], [0.452093, 0.46569], [0.444088, 0.522293], [0.443131, 0.499415], [0.438456, 0.443539], [0.433304, 0.641102], [0.42794, 0.479862], [0.382242, 0.40097], [0.353896, 0.421909], [0.311536, 0.325218], [0.292555, 0.304928]], 'nb_neuron': 200, 'file': 'temp_persistence.txt'}\n"
     ]
    }
   ],
   "source": [
    "# extract data\n",
    "data = ripser_to_dict('temp_persistence.txt',thr)\n",
    "print(data)"
   ]
  },
  {
   "cell_type": "code",
   "execution_count": 51,
   "metadata": {
    "collapsed": false
   },
   "outputs": [
    {
     "data": {
      "image/png": "[encoded data removed]",
      "text/plain": [
       "<matplotlib.figure.Figure at 0x10fe98d30>"
      ]
     },
     "metadata": {},
     "output_type": "display_data"
    }
   ],
   "source": [
    "# plot diagrams\n",
    "plot_persistence(data,thr,dim)"
   ]
  },
  {
   "cell_type": "code",
   "execution_count": null,
   "metadata": {
    "collapsed": true
   },
   "outputs": [],
   "source": []
  }
 ],
 "metadata": {
  "kernelspec": {
   "display_name": "Python [Root]",
   "language": "python",
   "name": "Python [Root]"
  },
  "language_info": {
   "codemirror_mode": {
    "name": "ipython",
    "version": 3
   },
   "file_extension": ".py",
   "mimetype": "text/x-python",
   "name": "python",
   "nbconvert_exporter": "python",
   "pygments_lexer": "ipython3",
   "version": "3.5.2"
  }
 },
 "nbformat": 4,
 "nbformat_minor": 0
}
