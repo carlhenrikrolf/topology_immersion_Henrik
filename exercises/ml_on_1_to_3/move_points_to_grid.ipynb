{
 "cells": [
  {
   "cell_type": "markdown",
   "metadata": {},
   "source": [
    "# Move Points to Grid\n",
    "Move each point of a PH diagram to the closest point in a grid. This will not use a heat kernel. I will not ignore the empty area of the PDs, and I will only use a rectangular grid."
   ]
  },
  {
   "cell_type": "code",
   "execution_count": 48,
   "metadata": {
    "collapsed": true
   },
   "outputs": [],
   "source": [
    "import numpy as np\n",
    "import matplotlib.pyplot as plt\n",
    "%matplotlib inline\n",
    "import sys\n",
    "path = '../../scripts/'\n",
    "sys.path.insert(0,path)\n",
    "from RipserToDict import ripser_to_dict\n",
    "from PlotPersistence import plot_persistence\n",
    "import pickle\n",
    "import random"
   ]
  },
  {
   "cell_type": "markdown",
   "metadata": {},
   "source": [
    "## Parameters"
   ]
  },
  {
   "cell_type": "raw",
   "metadata": {
    "collapsed": false
   },
   "source": [
    "params = {\n",
    "    'grid_width': 32,\\\n",
    "    'grid_height': 32,\\\n",
    "    'all_dims': range(3)\n",
    "}\n",
    "all_seeds = range(0,5000)"
   ]
  },
  {
   "cell_type": "markdown",
   "metadata": {},
   "source": [
    "## Functions"
   ]
  },
  {
   "cell_type": "code",
   "execution_count": 49,
   "metadata": {
    "collapsed": false
   },
   "outputs": [],
   "source": [
    "def gridify_a_PD(PD,params):\n",
    "    \n",
    "    \"\"\"Moves points to nearest intersection in a grid. Input is a collection of (b,d)-points.\"\"\"\n",
    "    \n",
    "    width = params['grid_width']\n",
    "    height = params['grid_height']\n",
    "    max_persistence = params['max_persistence']\n",
    "    \n",
    "    out_im = np.zeros((height,width))\n",
    "    rx = max_persistence/(float)(width - 1)\n",
    "    ry = max_persistence/(float)(height - 1)\n",
    "    n_points = PD.shape[0]\n",
    "    \n",
    "    for y in range(height):\n",
    "        for x in range(width):\n",
    "            for n in range(n_points):\n",
    "                its_close_to_x = -rx/2. < PD[n,0] - rx*x < rx/2.\n",
    "                its_close_to_y = -ry/2. < PD[n,1] - ry*y < ry/2.\n",
    "                if its_close_to_x and its_close_to_y:\n",
    "                    out_im[y,x] += 1\n",
    "    out_im = np.flipud(out_im)\n",
    "    return out_im\n",
    "    "
   ]
  },
  {
   "cell_type": "code",
   "execution_count": 50,
   "metadata": {
    "collapsed": false
   },
   "outputs": [],
   "source": [
    "def create_matrix_library(all_seeds,params):\n",
    "    for shape in ['circle', 'sphere', 'torus']:\n",
    "        for seed in all_seeds:\n",
    "            with open('../../../heavy_files/exercises/ml_on_1_to_3/' + shape + \\\n",
    "                      '_persistences/' + str(seed) + '.txt', \\\n",
    "                      'rb') as f:\n",
    "                temp = pickle.load(f)\n",
    "            PD = temp[1].copy()\n",
    "            params.update(temp['params'].copy())\n",
    "            del temp\n",
    "            out_im = gridify_a_PD(PD,params)\n",
    "            np.savetxt('../../../heavy_files/exercises/ml_on_1_to_3/pixelated_pds/' \\\n",
    "                       + shape + '/' + str(seed) + '.dat',\\\n",
    "                       out_im, delimiter=',')\n",
    "            params = {\n",
    "                'grid_width': 28,\n",
    "                'grid_height': 28\n",
    "            }"
   ]
  },
  {
   "cell_type": "code",
   "execution_count": 51,
   "metadata": {
    "collapsed": true
   },
   "outputs": [],
   "source": [
    "def create_cifar_library(all_seeds,params):\n",
    "    for shape in ['circle', 'sphere', 'torus']:\n",
    "        for seed in all_seeds:\n",
    "            with open('../../../heavy_files/exercises/ml_on_1_to_3/' + shape + \\\n",
    "                      '_persistences/' + str(seed) + '.txt', \\\n",
    "                      'rb') as f:\n",
    "                temp = pickle.load(f)\n",
    "            #params.update(temp['params'].copy())\n",
    "            for dim in params['all_dims']:\n",
    "                if dim > 1 and shape == 'circle':\n",
    "                    out_im = np.zeros((32,32))\n",
    "                else:\n",
    "                    PD = temp[dim].copy()\n",
    "                    out_im = gridify_a_PD(PD,params)\n",
    "                np.savetxt('../../../heavy_files/exercises/ml_on_1_to_3/pixelated_pds/cifar/' \\\n",
    "                           + shape + '/' + str(seed) + '-' + str(dim) + '.dat',\\\n",
    "                           out_im, delimiter=',')\n",
    "            del temp\n",
    "            \"\"\"params = {\n",
    "                'grid_width': 28,\n",
    "                'grid_height': 28\n",
    "            }\"\"\""
   ]
  },
  {
   "cell_type": "markdown",
   "metadata": {},
   "source": [
    "## Calculations"
   ]
  },
  {
   "cell_type": "code",
   "execution_count": 52,
   "metadata": {
    "collapsed": false
   },
   "outputs": [],
   "source": [
    "params = {\n",
    "    'grid_width': 28,\\\n",
    "    'grid_height': 28,\\\n",
    "    'all_dims': range(3)\n",
    "}\n",
    "all_seeds = range(0,5000)\n",
    "create_matrix_library(all_seeds,params)"
   ]
  },
  {
   "cell_type": "code",
   "execution_count": 47,
   "metadata": {
    "collapsed": false
   },
   "outputs": [
    {
     "ename": "KeyboardInterrupt",
     "evalue": "",
     "output_type": "error",
     "traceback": [
      "\u001b[0;31m---------------------------------------------------------------------------\u001b[0m",
      "\u001b[0;31mKeyboardInterrupt\u001b[0m                         Traceback (most recent call last)",
      "\u001b[0;32m<ipython-input-47-3cce0021bb6f>\u001b[0m in \u001b[0;36m<module>\u001b[0;34m()\u001b[0m\n\u001b[0;32m----> 1\u001b[0;31m \u001b[0mcreate_cifar_library\u001b[0m\u001b[0;34m(\u001b[0m\u001b[0mall_seeds\u001b[0m\u001b[0;34m,\u001b[0m\u001b[0mparams\u001b[0m\u001b[0;34m)\u001b[0m\u001b[0;34m\u001b[0m\u001b[0m\n\u001b[0m",
      "\u001b[0;32m<ipython-input-46-4ab3b98a3f81>\u001b[0m in \u001b[0;36mcreate_cifar_library\u001b[0;34m(all_seeds, params)\u001b[0m\n\u001b[1;32m     10\u001b[0m                 \u001b[0;32melse\u001b[0m\u001b[0;34m:\u001b[0m\u001b[0;34m\u001b[0m\u001b[0m\n\u001b[1;32m     11\u001b[0m                     \u001b[0mPD\u001b[0m \u001b[0;34m=\u001b[0m \u001b[0mtemp\u001b[0m\u001b[0;34m[\u001b[0m\u001b[0mdim\u001b[0m\u001b[0;34m]\u001b[0m\u001b[0;34m.\u001b[0m\u001b[0mcopy\u001b[0m\u001b[0;34m(\u001b[0m\u001b[0;34m)\u001b[0m\u001b[0;34m\u001b[0m\u001b[0m\n\u001b[0;32m---> 12\u001b[0;31m                     \u001b[0mout_im\u001b[0m \u001b[0;34m=\u001b[0m \u001b[0mgridify_a_PD\u001b[0m\u001b[0;34m(\u001b[0m\u001b[0mPD\u001b[0m\u001b[0;34m,\u001b[0m\u001b[0mparams\u001b[0m\u001b[0;34m)\u001b[0m\u001b[0;34m\u001b[0m\u001b[0m\n\u001b[0m\u001b[1;32m     13\u001b[0m                 \u001b[0mnp\u001b[0m\u001b[0;34m.\u001b[0m\u001b[0msavetxt\u001b[0m\u001b[0;34m(\u001b[0m\u001b[0;34m'../../../heavy_files/exercises/ml_on_1_to_3/pixelated_pds/cifar/'\u001b[0m                            \u001b[0;34m+\u001b[0m \u001b[0mshape\u001b[0m \u001b[0;34m+\u001b[0m \u001b[0;34m'/'\u001b[0m \u001b[0;34m+\u001b[0m \u001b[0mstr\u001b[0m\u001b[0;34m(\u001b[0m\u001b[0mseed\u001b[0m\u001b[0;34m)\u001b[0m \u001b[0;34m+\u001b[0m \u001b[0;34m'-'\u001b[0m \u001b[0;34m+\u001b[0m \u001b[0mstr\u001b[0m\u001b[0;34m(\u001b[0m\u001b[0mdim\u001b[0m\u001b[0;34m)\u001b[0m \u001b[0;34m+\u001b[0m \u001b[0;34m'.dat'\u001b[0m\u001b[0;34m,\u001b[0m                           \u001b[0mout_im\u001b[0m\u001b[0;34m,\u001b[0m \u001b[0mdelimiter\u001b[0m\u001b[0;34m=\u001b[0m\u001b[0;34m','\u001b[0m\u001b[0;34m)\u001b[0m\u001b[0;34m\u001b[0m\u001b[0m\n\u001b[1;32m     14\u001b[0m             \u001b[0;32mdel\u001b[0m \u001b[0mtemp\u001b[0m\u001b[0;34m\u001b[0m\u001b[0m\n",
      "\u001b[0;32m<ipython-input-34-6af5677a2898>\u001b[0m in \u001b[0;36mgridify_a_PD\u001b[0;34m(PD, params)\u001b[0m\n\u001b[1;32m     17\u001b[0m                 \u001b[0mits_close_to_x\u001b[0m \u001b[0;34m=\u001b[0m \u001b[0;34m-\u001b[0m\u001b[0mrx\u001b[0m\u001b[0;34m/\u001b[0m\u001b[0;36m2.\u001b[0m \u001b[0;34m<\u001b[0m \u001b[0mPD\u001b[0m\u001b[0;34m[\u001b[0m\u001b[0mn\u001b[0m\u001b[0;34m,\u001b[0m\u001b[0;36m0\u001b[0m\u001b[0;34m]\u001b[0m \u001b[0;34m-\u001b[0m \u001b[0mrx\u001b[0m\u001b[0;34m*\u001b[0m\u001b[0mx\u001b[0m \u001b[0;34m<\u001b[0m \u001b[0mrx\u001b[0m\u001b[0;34m/\u001b[0m\u001b[0;36m2.\u001b[0m\u001b[0;34m\u001b[0m\u001b[0m\n\u001b[1;32m     18\u001b[0m                 \u001b[0mits_close_to_y\u001b[0m \u001b[0;34m=\u001b[0m \u001b[0;34m-\u001b[0m\u001b[0mry\u001b[0m\u001b[0;34m/\u001b[0m\u001b[0;36m2.\u001b[0m \u001b[0;34m<\u001b[0m \u001b[0mPD\u001b[0m\u001b[0;34m[\u001b[0m\u001b[0mn\u001b[0m\u001b[0;34m,\u001b[0m\u001b[0;36m1\u001b[0m\u001b[0;34m]\u001b[0m \u001b[0;34m-\u001b[0m \u001b[0mry\u001b[0m\u001b[0;34m*\u001b[0m\u001b[0my\u001b[0m \u001b[0;34m<\u001b[0m \u001b[0mry\u001b[0m\u001b[0;34m/\u001b[0m\u001b[0;36m2.\u001b[0m\u001b[0;34m\u001b[0m\u001b[0m\n\u001b[0;32m---> 19\u001b[0;31m                 \u001b[0;32mif\u001b[0m \u001b[0mits_close_to_x\u001b[0m \u001b[0;32mand\u001b[0m \u001b[0mits_close_to_y\u001b[0m\u001b[0;34m:\u001b[0m\u001b[0;34m\u001b[0m\u001b[0m\n\u001b[0m\u001b[1;32m     20\u001b[0m                     \u001b[0mout_im\u001b[0m\u001b[0;34m[\u001b[0m\u001b[0my\u001b[0m\u001b[0;34m,\u001b[0m\u001b[0mx\u001b[0m\u001b[0;34m]\u001b[0m \u001b[0;34m+=\u001b[0m \u001b[0;36m1\u001b[0m\u001b[0;34m\u001b[0m\u001b[0m\n\u001b[1;32m     21\u001b[0m     \u001b[0mout_im\u001b[0m \u001b[0;34m=\u001b[0m \u001b[0mnp\u001b[0m\u001b[0;34m.\u001b[0m\u001b[0mflipud\u001b[0m\u001b[0;34m(\u001b[0m\u001b[0mout_im\u001b[0m\u001b[0;34m)\u001b[0m\u001b[0;34m\u001b[0m\u001b[0m\n",
      "\u001b[0;31mKeyboardInterrupt\u001b[0m: "
     ]
    }
   ],
   "source": [
    "params = {\n",
    "    'grid_width': 32,\\\n",
    "    'grid_height': 32,\\\n",
    "    'all_dims': range(3)\n",
    "}\n",
    "all_seeds = range(0,5000)\n",
    "create_cifar_library(all_seeds,params)"
   ]
  },
  {
   "cell_type": "raw",
   "metadata": {
    "collapsed": false
   },
   "source": [
    "# load files\n",
    "\n",
    "# sphere\n",
    "sphere_seed = 0\n",
    "with open('../../../heavy_files/exercises/ml_on_1_to_3/sphere_persistences/' + str(sphere_seed) + '.txt', 'rb') as f:\n",
    "    sphere_dict = pickle.load(f)\n",
    "PD = sphere_dict[2].copy()\n",
    "params.update(sphere_dict['params'].copy())\n",
    "print(params)\n",
    "#print(PD)"
   ]
  },
  {
   "cell_type": "raw",
   "metadata": {
    "collapsed": false
   },
   "source": [
    "out_im = gridify_a_PD(PD,params)"
   ]
  },
  {
   "cell_type": "raw",
   "metadata": {
    "collapsed": false
   },
   "source": [
    "matrix = plt.imshow(out_im)"
   ]
  },
  {
   "cell_type": "raw",
   "metadata": {
    "collapsed": false
   },
   "source": [
    "fig = plot_persistence(sphere_dict,params)"
   ]
  },
  {
   "cell_type": "raw",
   "metadata": {
    "collapsed": true
   },
   "source": [
    "# export to file\n",
    "np.savetxt('../../../heavy_files/exercises/ml_on_1_to_3/pixelated_pds/test.csv',out_im,delimiter=',')\n",
    "file = open('../../../heavy_files/exercises/ml_on_1_to_3/pixelated_pds/meta.txt','w')\n",
    "file.write(str(params))\n",
    "file.close()\n",
    "    "
   ]
  },
  {
   "cell_type": "raw",
   "metadata": {},
   "source": []
  },
  {
   "cell_type": "code",
   "execution_count": 45,
   "metadata": {
    "collapsed": false
   },
   "outputs": [
    {
     "name": "stdout",
     "output_type": "stream",
     "text": [
      "range(0, 3)\n"
     ]
    }
   ],
   "source": [
    "print(params['all_dims'])"
   ]
  },
  {
   "cell_type": "code",
   "execution_count": null,
   "metadata": {
    "collapsed": true
   },
   "outputs": [],
   "source": []
  }
 ],
 "metadata": {
  "anaconda-cloud": {},
  "kernelspec": {
   "display_name": "Python [Root]",
   "language": "python",
   "name": "Python [Root]"
  },
  "language_info": {
   "codemirror_mode": {
    "name": "ipython",
    "version": 3
   },
   "file_extension": ".py",
   "mimetype": "text/x-python",
   "name": "python",
   "nbconvert_exporter": "python",
   "pygments_lexer": "ipython3",
   "version": "3.5.2"
  }
 },
 "nbformat": 4,
 "nbformat_minor": 0
}
