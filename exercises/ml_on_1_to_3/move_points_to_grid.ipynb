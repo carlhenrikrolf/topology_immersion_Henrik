{
 "cells": [
  {
   "cell_type": "markdown",
   "metadata": {},
   "source": [
    "# Move Points to Grid\n",
    "Move each point of a PH diagram to the closest point in a grid. This will not use a heat kernel. I will not ignore the empty area of the PDs, and I will only use a rectangular grid."
   ]
  },
  {
   "cell_type": "code",
   "execution_count": 122,
   "metadata": {
    "collapsed": true
   },
   "outputs": [],
   "source": [
    "import numpy as np\n",
    "import matplotlib.pyplot as plt\n",
    "%matplotlib inline\n",
    "import sys\n",
    "path = '../../scripts/'\n",
    "sys.path.insert(0,path)\n",
    "from RipserToDict import ripser_to_dict\n",
    "from PlotPersistence import plot_persistence\n",
    "import pickle\n",
    "import random"
   ]
  },
  {
   "cell_type": "markdown",
   "metadata": {},
   "source": [
    "## Parameters"
   ]
  },
  {
   "cell_type": "code",
   "execution_count": 123,
   "metadata": {
    "collapsed": false
   },
   "outputs": [],
   "source": [
    "params = {\n",
    "    'grid_width': 10,\n",
    "    'grid_height': 10\n",
    "}"
   ]
  },
  {
   "cell_type": "markdown",
   "metadata": {},
   "source": [
    "## Functions"
   ]
  },
  {
   "cell_type": "code",
   "execution_count": 124,
   "metadata": {
    "collapsed": false
   },
   "outputs": [],
   "source": [
    "def gridify_a_PD(PD,params):\n",
    "    \n",
    "    \"\"\"Moves points to nearest intersection in a grid. Input is a collection of (b,d)-points.\"\"\"\n",
    "    \n",
    "    width = params['grid_width']\n",
    "    height = params['grid_height']\n",
    "    max_persistence = params['max_persistence']\n",
    "    \n",
    "    out_im = np.zeros((height,width))\n",
    "    rx = max_persistence/(float)(width - 1)\n",
    "    ry = max_persistence/(float)(height - 1)\n",
    "    n_points = PD.shape[0]\n",
    "    \n",
    "    for y in range(height):\n",
    "        for x in range(width):\n",
    "            for n in range(n_points):\n",
    "                its_close_to_x = -rx/2. < PD[n,0] - rx*x < rx/2.\n",
    "                its_close_to_y = -ry/2. < PD[n,1] - ry*y < ry/2.\n",
    "                if its_close_to_x and its_close_to_y:\n",
    "                    out_im[y,x] += 1\n",
    "    out_im = np.flipud(out_im)\n",
    "    return out_im\n",
    "    "
   ]
  },
  {
   "cell_type": "markdown",
   "metadata": {},
   "source": [
    "## Calculations"
   ]
  },
  {
   "cell_type": "code",
   "execution_count": 135,
   "metadata": {
    "collapsed": false
   },
   "outputs": [
    {
     "name": "stdout",
     "output_type": "stream",
     "text": [
      "{'threshold': 10, 'all_seeds': range(0, 10), 'shape': 'sphere', 'seed': 0, 'deviation': 0.1, 'n_points': 200, 'grid_width': 10, 'grid_height': 10, 'dim': 2, 'max_persistence': 2.5}\n"
     ]
    }
   ],
   "source": [
    "# load files\n",
    "\n",
    "# sphere\n",
    "sphere_seed = 0\n",
    "with open('../../../heavy_files/exercises/ml_on_1_to_3/sphere_persistences/' + str(sphere_seed) + '.txt', 'rb') as f:\n",
    "    sphere_dict = pickle.load(f)\n",
    "PD = sphere_dict[2].copy()\n",
    "params.update(sphere_dict['params'].copy())\n",
    "print(params)\n",
    "#print(PD)"
   ]
  },
  {
   "cell_type": "code",
   "execution_count": 136,
   "metadata": {
    "collapsed": false
   },
   "outputs": [],
   "source": [
    "out_im = gridify_a_PD(PD,params)"
   ]
  },
  {
   "cell_type": "code",
   "execution_count": 137,
   "metadata": {
    "collapsed": false
   },
   "outputs": [
    {
     "name": "stdout",
     "output_type": "stream",
     "text": [
      "[[ 0.  0.  0.  0.  0.  0.  0.  0.  0.  0.]\n",
      " [ 0.  0.  0.  0.  0.  0.  0.  0.  0.  0.]\n",
      " [ 0.  0.  0.  0.  0.  0.  0.  0.  0.  0.]\n",
      " [ 0.  0.  0.  1.  0.  0.  0.  0.  0.  0.]\n",
      " [ 0.  0.  0.  0.  0.  0.  0.  0.  0.  0.]\n",
      " [ 0.  0.  0.  0.  0.  0.  0.  0.  0.  0.]\n",
      " [ 0.  0.  0.  1.  0.  0.  0.  0.  0.  0.]\n",
      " [ 0.  1.  1.  0.  0.  0.  0.  0.  0.  0.]\n",
      " [ 0.  0.  0.  0.  0.  0.  0.  0.  0.  0.]\n",
      " [ 0.  0.  0.  0.  0.  0.  0.  0.  0.  0.]]\n"
     ]
    }
   ],
   "source": [
    "print(out_im)"
   ]
  },
  {
   "cell_type": "code",
   "execution_count": 138,
   "metadata": {
    "collapsed": false
   },
   "outputs": [
    {
     "data": {
      "image/png": "[encoded data removed]",
      "text/plain": [
       "<matplotlib.figure.Figure at 0x111d270f0>"
      ]
     },
     "metadata": {},
     "output_type": "display_data"
    }
   ],
   "source": [
    "fig = plot_persistence(sphere_dict,params)"
   ]
  },
  {
   "cell_type": "code",
   "execution_count": null,
   "metadata": {
    "collapsed": true
   },
   "outputs": [],
   "source": []
  }
 ],
 "metadata": {
  "kernelspec": {
   "display_name": "Python [Root]",
   "language": "python",
   "name": "Python [Root]"
  },
  "language_info": {
   "codemirror_mode": {
    "name": "ipython",
    "version": 3
   },
   "file_extension": ".py",
   "mimetype": "text/x-python",
   "name": "python",
   "nbconvert_exporter": "python",
   "pygments_lexer": "ipython3",
   "version": "3.5.2"
  }
 },
 "nbformat": 4,
 "nbformat_minor": 0
}
