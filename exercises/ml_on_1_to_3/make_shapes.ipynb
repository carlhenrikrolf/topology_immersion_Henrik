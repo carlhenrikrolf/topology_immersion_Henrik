{
 "cells": [
  {
   "cell_type": "markdown",
   "metadata": {},
   "source": [
    "# Make Shapes and Create their Persistence Diagrams"
   ]
  },
  {
   "cell_type": "markdown",
   "metadata": {},
   "source": [
    "## Load packages"
   ]
  },
  {
   "cell_type": "code",
   "execution_count": 13,
   "metadata": {
    "collapsed": false
   },
   "outputs": [],
   "source": [
    "import numpy as np\n",
    "import matplotlib.pyplot as plt\n",
    "%matplotlib inline\n",
    "import sys\n",
    "path = '../../scripts/'\n",
    "sys.path.insert(0,path)\n",
    "from RipserToDict import ripser_to_dict\n",
    "from PlotPersistence import plot_persistence\n",
    "import pickle as pickle"
   ]
  },
  {
   "cell_type": "markdown",
   "metadata": {},
   "source": [
    "## Parameters"
   ]
  },
  {
   "cell_type": "code",
   "execution_count": 2,
   "metadata": {
    "collapsed": false
   },
   "outputs": [],
   "source": [
    "# general params\n",
    "params = {\n",
    "    'all_seeds': range(0,5000),\n",
    "    'dim': 2,\n",
    "    'max_persistence': 2.5,\n",
    "    'n_points': 200,\n",
    "    'threshold': 10\n",
    "}"
   ]
  },
  {
   "cell_type": "code",
   "execution_count": 3,
   "metadata": {
    "collapsed": true
   },
   "outputs": [],
   "source": [
    "# circle params\n",
    "circle_params = params.copy()\n",
    "circle_params['deviation'] = 0.1\n",
    "circle_params['dim'] = 1"
   ]
  },
  {
   "cell_type": "code",
   "execution_count": 4,
   "metadata": {
    "collapsed": true
   },
   "outputs": [],
   "source": [
    "# sphere params\n",
    "sphere_params = params.copy()\n",
    "sphere_params['deviation'] = 0.1"
   ]
  },
  {
   "cell_type": "code",
   "execution_count": 5,
   "metadata": {
    "collapsed": false
   },
   "outputs": [
    {
     "name": "stdout",
     "output_type": "stream",
     "text": [
      "{'n_points': 200, 'dim': 2, 'max_persistence': 2.5, 'deviation': [0.1, 0.1], 'all_seeds': range(0, 5000), 'threshold': 10}\n"
     ]
    }
   ],
   "source": [
    "# torus params\n",
    "torus_params = params.copy()\n",
    "torus_params['deviation'] = [0.1,0.1]\n",
    "print(torus_params)"
   ]
  },
  {
   "cell_type": "markdown",
   "metadata": {},
   "source": [
    "## Functions"
   ]
  },
  {
   "cell_type": "code",
   "execution_count": 6,
   "metadata": {
    "collapsed": true
   },
   "outputs": [],
   "source": [
    "def create_circle_distance_matrix(params):\n",
    "    n_points = params['n_points']\n",
    "    dev = params['deviation']\n",
    "    seed = params['seed']\n",
    "    \n",
    "    # construct unit circle, r=1±dev, 0<theta<2*pi\n",
    "    np.random.seed(seed=seed)\n",
    "    circular_coords = np.random.rand(2,n_points)\n",
    "    circular_coords[0,:] = 1. - dev/2. + dev*circular_coords[0,:]\n",
    "    circular_coords[1,:] = 2*np.pi*circular_coords[1,:]\n",
    "    \n",
    "    # transform into Euclidean\n",
    "    Euclidean_coords = np.zeros((2,n_points))\n",
    "    Euclidean_coords[0,:] = circular_coords[0,:]*np.cos(circular_coords[1,:])\n",
    "    Euclidean_coords[1,:] = circular_coords[1,:]*np.sin(circular_coords[1,:])\n",
    "    \n",
    "    # calculate distances\n",
    "    distance_matrix = np.zeros((n_points,n_points))\n",
    "    for i in range(n_points):\n",
    "        for j in range(n_points):\n",
    "            distance_matrix[i,j] = np.sqrt(\n",
    "            (Euclidean_coords[0,i] - Euclidean_coords[0,j])**2\n",
    "            + (Euclidean_coords[1,i] - Euclidean_coords[1,j])**2)\n",
    "            \n",
    "    params['shape'] = 'circle'\n",
    "    return distance_matrix"
   ]
  },
  {
   "cell_type": "code",
   "execution_count": 7,
   "metadata": {
    "collapsed": true
   },
   "outputs": [],
   "source": [
    "def create_sphere_distance_matrix(params):\n",
    "    n_points = params['n_points']\n",
    "    error = params['deviation']\n",
    "    seed = params['seed']\n",
    "    \n",
    "    # construct (unit) sphere in spherical coordinates: r=1±dev, 0<theta<pi, 0<phi<2*pi\n",
    "    np.random.seed(seed=seed)\n",
    "    noisy_spherical_coords = np.random.rand(3,n_points)\n",
    "    noisy_spherical_coords[0,:] = 1. - error/2. + error*noisy_spherical_coords[0,:]\n",
    "    noisy_spherical_coords[1,:] = noisy_spherical_coords[1,:]*np.pi\n",
    "    noisy_spherical_coords[2,:] = noisy_spherical_coords[2,:]*2*np.pi\n",
    "\n",
    "    # transform perfect sphere into Euclidean coordinates\n",
    "    noisy_Euclidean_coords = np.zeros((3,n_points))\n",
    "    noisy_Euclidean_coords[0,:] = noisy_spherical_coords[0,:]*np.sin(noisy_spherical_coords[1,:])*np.cos(noisy_spherical_coords[2,:])\n",
    "    noisy_Euclidean_coords[1,:] = noisy_spherical_coords[0,:]*np.sin(noisy_spherical_coords[1,:])*np.sin(noisy_spherical_coords[2,:])\n",
    "    noisy_Euclidean_coords[2,:] = noisy_spherical_coords[0,:]*np.cos(noisy_spherical_coords[1,:])\n",
    "\n",
    "    # create distance matrix for the perfect sphere\n",
    "    noisy_pairwise_distances = np.zeros((n_points,n_points))\n",
    "    for i in range(n_points):\n",
    "        for j in range(n_points):\n",
    "            noisy_pairwise_distances[i,j] = np.sqrt(\n",
    "                (noisy_Euclidean_coords[0,j] - noisy_Euclidean_coords[0,i])**2\n",
    "                + (noisy_Euclidean_coords[1,j] - noisy_Euclidean_coords[1,i])**2\n",
    "                + (noisy_Euclidean_coords[2,j] - noisy_Euclidean_coords[2,i])**2\n",
    "            )\n",
    "    \n",
    "    params['shape'] = 'sphere'\n",
    "    return noisy_pairwise_distances"
   ]
  },
  {
   "cell_type": "code",
   "execution_count": 8,
   "metadata": {
    "collapsed": true
   },
   "outputs": [],
   "source": [
    "def create_torus_distance_matrix(params):\n",
    "    n_points = params['n_points']\n",
    "    seed = params['seed']\n",
    "    deviation = params['deviation']\n",
    "    \n",
    "    # create noise\n",
    "    a = 1. - deviation[0]/2. + np.random.rand(1,n_points)\n",
    "    b = 1. - deviation[1]/2. + np.random.rand(1,n_points)\n",
    "    \n",
    "    # create random points\n",
    "    np.random.seed(seed=seed)\n",
    "    random_points = 2*np.pi*np.random.rand(2,n_points)\n",
    "    R4_coords = np.zeros((4,n_points))\n",
    "    R4_coords[0,:] = a*np.cos(random_points[0,:])\n",
    "    R4_coords[1,:] = a*np.sin(random_points[0,:])\n",
    "    R4_coords[2,:] = b*np.cos(random_points[1,:])\n",
    "    R4_coords[3,:] = b*np.sin(random_points[1,:])\n",
    "    \n",
    "    # calculate distances\n",
    "    distance_matrix = np.zeros((n_points,n_points))\n",
    "    for i in range(n_points):\n",
    "        for j in range(n_points):\n",
    "            distance_matrix[i,j] = np.sqrt(\n",
    "            (R4_coords[0,i] - R4_coords[0,j])**2\n",
    "            + (R4_coords[1,i] - R4_coords[1,j])**2\n",
    "            + (R4_coords[2,i] - R4_coords[2,j])**2\n",
    "            + (R4_coords[3,i] - R4_coords[3,j])**2)\n",
    "            \n",
    "    params['shape'] = 'torus'\n",
    "    return distance_matrix"
   ]
  },
  {
   "cell_type": "markdown",
   "metadata": {},
   "source": [
    "## Calculations"
   ]
  },
  {
   "cell_type": "code",
   "execution_count": 9,
   "metadata": {
    "collapsed": false
   },
   "outputs": [],
   "source": [
    "# circles\n",
    "for seed in circle_params['all_seeds']:\n",
    "    \n",
    "    circle_params['seed'] = seed\n",
    "    circle_distance_matrix = create_circle_distance_matrix(circle_params)\n",
    "    np.savetxt(\"temp/circle_distance.txt\", circle_distance_matrix, delimiter=\",\")\n",
    "    \n",
    "    !cd ../../../ripser; \\\n",
    "    ./ripser --format distance --dim {circle_params['dim']} --threshold {circle_params['threshold']} \\\n",
    "    ../topology_immersion_Henrik/exercises/ml_on_1_to_3/temp/circle_distance.txt \\\n",
    "    > ../topology_immersion_Henrik/exercises/ml_on_1_to_3/temp/circle_persistence.txt\n",
    "    \n",
    "    circle_persistence = ripser_to_dict('temp/circle_persistence.txt',params).copy()\n",
    "    circle_persistence['params'] = circle_params\n",
    "    \n",
    "    with open('../../../heavy_files/exercises/ml_on_1_to_3/circle_persistences/' + str(seed) + '.txt', \"wb\") as myFile:\n",
    "        pickle.dump(circle_persistence, myFile)"
   ]
  },
  {
   "cell_type": "code",
   "execution_count": 10,
   "metadata": {
    "collapsed": false
   },
   "outputs": [],
   "source": [
    "# spheres\n",
    "for seed in sphere_params['all_seeds']:\n",
    "    \n",
    "    sphere_params['seed'] = seed\n",
    "    sphere_distance_matrix = create_sphere_distance_matrix(sphere_params)\n",
    "    np.savetxt(\"temp/sphere_distance.txt\", sphere_distance_matrix, delimiter=\",\")\n",
    "    \n",
    "    !cd ../../../ripser; \\\n",
    "    ./ripser --format distance --dim {sphere_params['dim']} --threshold {sphere_params['threshold']} \\\n",
    "    ../topology_immersion_Henrik/exercises/ml_on_1_to_3/temp/sphere_distance.txt \\\n",
    "    > ../topology_immersion_Henrik/exercises/ml_on_1_to_3/temp/sphere_persistence.txt\n",
    "    \n",
    "    sphere_persistence = ripser_to_dict('temp/sphere_persistence.txt',params).copy()\n",
    "    sphere_persistence['params'] = sphere_params\n",
    "    \n",
    "    with open('../../../heavy_files/exercises/ml_on_1_to_3/sphere_persistences/' + str(seed) + '.txt', \"wb\") as myFile:\n",
    "        pickle.dump(sphere_persistence, myFile)"
   ]
  },
  {
   "cell_type": "code",
   "execution_count": 11,
   "metadata": {
    "collapsed": false
   },
   "outputs": [
    {
     "name": "stdout",
     "output_type": "stream",
     "text": [
      "max_persistence is too small\n",
      "max_persistence is too small\n",
      "max_persistence is too small\n",
      "max_persistence is too small\n",
      "max_persistence is too small\n",
      "max_persistence is too small\n",
      "max_persistence is too small\n",
      "max_persistence is too small\n",
      "max_persistence is too small\n",
      "max_persistence is too small\n",
      "max_persistence is too small\n",
      "max_persistence is too small\n",
      "max_persistence is too small\n",
      "max_persistence is too small\n",
      "max_persistence is too small\n",
      "max_persistence is too small\n",
      "max_persistence is too small\n",
      "max_persistence is too small\n"
     ]
    }
   ],
   "source": [
    "# toruses\n",
    "for seed in torus_params['all_seeds']:\n",
    "\n",
    "    torus_params['seed'] = seed\n",
    "    torus_distance_matrix = create_torus_distance_matrix(torus_params)\n",
    "    np.savetxt(\"temp/torus_distance.txt\", torus_distance_matrix, delimiter=\",\")\n",
    "    \n",
    "    !cd ../../../ripser; \\\n",
    "    ./ripser --format distance --dim {torus_params['dim']} --threshold {torus_params['threshold']} \\\n",
    "    ../topology_immersion_Henrik/exercises/ml_on_1_to_3/temp/torus_distance.txt \\\n",
    "    > ../topology_immersion_Henrik/exercises/ml_on_1_to_3/temp/torus_persistence.txt\n",
    "    \n",
    "    torus_persistence = ripser_to_dict('temp/torus_persistence.txt',params).copy()\n",
    "    torus_persistence['params'] = torus_params\n",
    "    \n",
    "    with open('../../../heavy_files/exercises/ml_on_1_to_3/torus_persistences/' + str(seed) + '.txt', \"wb\") as myFile:\n",
    "        pickle.dump(torus_persistence, myFile)\n",
    "    "
   ]
  },
  {
   "cell_type": "markdown",
   "metadata": {},
   "source": [
    "## Henceforth, nothing of value"
   ]
  },
  {
   "cell_type": "code",
   "execution_count": 15,
   "metadata": {
    "collapsed": false
   },
   "outputs": [
    {
     "name": "stdout",
     "output_type": "stream",
     "text": [
      "{0: array([[ 0.      ,  0.197457],\n",
      "       [ 0.      ,  0.265326],\n",
      "       [ 0.      ,  0.265965],\n",
      "       [ 0.      ,  0.290001],\n",
      "       [ 0.      ,  0.315421],\n",
      "       [ 0.      ,  0.321829],\n",
      "       [ 0.      ,  0.332827],\n",
      "       [ 0.      ,  0.352031],\n",
      "       [ 0.      ,  0.357095],\n",
      "       [ 0.      ,  0.363108],\n",
      "       [ 0.      ,  0.377582],\n",
      "       [ 0.      ,  0.390422],\n",
      "       [ 0.      ,  0.392043],\n",
      "       [ 0.      ,  0.393096],\n",
      "       [ 0.      ,  0.397567],\n",
      "       [ 0.      ,  0.403943],\n",
      "       [ 0.      ,  0.412606],\n",
      "       [ 0.      ,  0.419201],\n",
      "       [ 0.      ,  0.430066],\n",
      "       [ 0.      ,  0.431111],\n",
      "       [ 0.      ,  0.432628],\n",
      "       [ 0.      ,  0.435452],\n",
      "       [ 0.      ,  0.441027],\n",
      "       [ 0.      ,  0.444569],\n",
      "       [ 0.      ,  0.450073],\n",
      "       [ 0.      ,  0.457343],\n",
      "       [ 0.      ,  0.461229],\n",
      "       [ 0.      ,  0.461556],\n",
      "       [ 0.      ,  0.466285],\n",
      "       [ 0.      ,  0.468156],\n",
      "       [ 0.      ,  0.471587],\n",
      "       [ 0.      ,  0.475818],\n",
      "       [ 0.      ,  0.479066],\n",
      "       [ 0.      ,  0.480097],\n",
      "       [ 0.      ,  0.489265],\n",
      "       [ 0.      ,  0.491979],\n",
      "       [ 0.      ,  0.49909 ],\n",
      "       [ 0.      ,  0.499279],\n",
      "       [ 0.      ,  0.501068],\n",
      "       [ 0.      ,  0.505737],\n",
      "       [ 0.      ,  0.506899],\n",
      "       [ 0.      ,  0.510135],\n",
      "       [ 0.      ,  0.512561],\n",
      "       [ 0.      ,  0.514055],\n",
      "       [ 0.      ,  0.514573],\n",
      "       [ 0.      ,  0.518345],\n",
      "       [ 0.      ,  0.520772],\n",
      "       [ 0.      ,  0.521117],\n",
      "       [ 0.      ,  0.523538],\n",
      "       [ 0.      ,  0.523871],\n",
      "       [ 0.      ,  0.529092],\n",
      "       [ 0.      ,  0.533242],\n",
      "       [ 0.      ,  0.535127],\n",
      "       [ 0.      ,  0.535576],\n",
      "       [ 0.      ,  0.536332],\n",
      "       [ 0.      ,  0.539078],\n",
      "       [ 0.      ,  0.539908],\n",
      "       [ 0.      ,  0.540646],\n",
      "       [ 0.      ,  0.541711],\n",
      "       [ 0.      ,  0.541718],\n",
      "       [ 0.      ,  0.546527],\n",
      "       [ 0.      ,  0.548474],\n",
      "       [ 0.      ,  0.550444],\n",
      "       [ 0.      ,  0.551254],\n",
      "       [ 0.      ,  0.553309],\n",
      "       [ 0.      ,  0.556575],\n",
      "       [ 0.      ,  0.561725],\n",
      "       [ 0.      ,  0.562712],\n",
      "       [ 0.      ,  0.564326],\n",
      "       [ 0.      ,  0.565487],\n",
      "       [ 0.      ,  0.566828],\n",
      "       [ 0.      ,  0.566881],\n",
      "       [ 0.      ,  0.575992],\n",
      "       [ 0.      ,  0.576413],\n",
      "       [ 0.      ,  0.58059 ],\n",
      "       [ 0.      ,  0.581892],\n",
      "       [ 0.      ,  0.582369],\n",
      "       [ 0.      ,  0.582483],\n",
      "       [ 0.      ,  0.583147],\n",
      "       [ 0.      ,  0.584571],\n",
      "       [ 0.      ,  0.58464 ],\n",
      "       [ 0.      ,  0.58823 ],\n",
      "       [ 0.      ,  0.595338],\n",
      "       [ 0.      ,  0.596245],\n",
      "       [ 0.      ,  0.60319 ],\n",
      "       [ 0.      ,  0.604961],\n",
      "       [ 0.      ,  0.605177],\n",
      "       [ 0.      ,  0.605215],\n",
      "       [ 0.      ,  0.605328],\n",
      "       [ 0.      ,  0.60724 ],\n",
      "       [ 0.      ,  0.609642],\n",
      "       [ 0.      ,  0.611024],\n",
      "       [ 0.      ,  0.611173],\n",
      "       [ 0.      ,  0.61228 ],\n",
      "       [ 0.      ,  0.618885],\n",
      "       [ 0.      ,  0.619805],\n",
      "       [ 0.      ,  0.621865],\n",
      "       [ 0.      ,  0.625014],\n",
      "       [ 0.      ,  0.625892],\n",
      "       [ 0.      ,  0.626172],\n",
      "       [ 0.      ,  0.62913 ],\n",
      "       [ 0.      ,  0.631838],\n",
      "       [ 0.      ,  0.635174],\n",
      "       [ 0.      ,  0.639058],\n",
      "       [ 0.      ,  0.639665],\n",
      "       [ 0.      ,  0.640339],\n",
      "       [ 0.      ,  0.641489],\n",
      "       [ 0.      ,  0.642717],\n",
      "       [ 0.      ,  0.645407],\n",
      "       [ 0.      ,  0.646795],\n",
      "       [ 0.      ,  0.648874],\n",
      "       [ 0.      ,  0.649018],\n",
      "       [ 0.      ,  0.649665],\n",
      "       [ 0.      ,  0.653846],\n",
      "       [ 0.      ,  0.655092],\n",
      "       [ 0.      ,  0.659111],\n",
      "       [ 0.      ,  0.662358],\n",
      "       [ 0.      ,  0.662659],\n",
      "       [ 0.      ,  0.66283 ],\n",
      "       [ 0.      ,  0.664748],\n",
      "       [ 0.      ,  0.668336],\n",
      "       [ 0.      ,  0.670557],\n",
      "       [ 0.      ,  0.67315 ],\n",
      "       [ 0.      ,  0.673457],\n",
      "       [ 0.      ,  0.674942],\n",
      "       [ 0.      ,  0.675794],\n",
      "       [ 0.      ,  0.680612],\n",
      "       [ 0.      ,  0.681118],\n",
      "       [ 0.      ,  0.682577],\n",
      "       [ 0.      ,  0.682669],\n",
      "       [ 0.      ,  0.682943],\n",
      "       [ 0.      ,  0.683141],\n",
      "       [ 0.      ,  0.683271],\n",
      "       [ 0.      ,  0.683941],\n",
      "       [ 0.      ,  0.684822],\n",
      "       [ 0.      ,  0.686467],\n",
      "       [ 0.      ,  0.688726],\n",
      "       [ 0.      ,  0.690253],\n",
      "       [ 0.      ,  0.693244],\n",
      "       [ 0.      ,  0.69433 ],\n",
      "       [ 0.      ,  0.699698],\n",
      "       [ 0.      ,  0.708035],\n",
      "       [ 0.      ,  0.712694],\n",
      "       [ 0.      ,  0.713422],\n",
      "       [ 0.      ,  0.71576 ],\n",
      "       [ 0.      ,  0.723508],\n",
      "       [ 0.      ,  0.72516 ],\n",
      "       [ 0.      ,  0.726091],\n",
      "       [ 0.      ,  0.730951],\n",
      "       [ 0.      ,  0.731587],\n",
      "       [ 0.      ,  0.733708],\n",
      "       [ 0.      ,  0.735637],\n",
      "       [ 0.      ,  0.736068],\n",
      "       [ 0.      ,  0.736321],\n",
      "       [ 0.      ,  0.736546],\n",
      "       [ 0.      ,  0.746273],\n",
      "       [ 0.      ,  0.748428],\n",
      "       [ 0.      ,  0.748908],\n",
      "       [ 0.      ,  0.754469],\n",
      "       [ 0.      ,  0.758564],\n",
      "       [ 0.      ,  0.763674],\n",
      "       [ 0.      ,  0.766979],\n",
      "       [ 0.      ,  0.776645],\n",
      "       [ 0.      ,  0.77828 ],\n",
      "       [ 0.      ,  0.780622],\n",
      "       [ 0.      ,  0.780762],\n",
      "       [ 0.      ,  0.78241 ],\n",
      "       [ 0.      ,  0.787621],\n",
      "       [ 0.      ,  0.788157],\n",
      "       [ 0.      ,  0.80548 ],\n",
      "       [ 0.      ,  0.809964],\n",
      "       [ 0.      ,  0.810056],\n",
      "       [ 0.      ,  0.811951],\n",
      "       [ 0.      ,  0.812579],\n",
      "       [ 0.      ,  0.816305],\n",
      "       [ 0.      ,  0.823681],\n",
      "       [ 0.      ,  0.824384],\n",
      "       [ 0.      ,  0.830207],\n",
      "       [ 0.      ,  0.834958],\n",
      "       [ 0.      ,  0.84907 ],\n",
      "       [ 0.      ,  0.849593],\n",
      "       [ 0.      ,  0.860332],\n",
      "       [ 0.      ,  0.869878],\n",
      "       [ 0.      ,  0.870834],\n",
      "       [ 0.      ,  0.871621],\n",
      "       [ 0.      ,  0.880286],\n",
      "       [ 0.      ,  0.939812],\n",
      "       [ 0.      ,  0.940463],\n",
      "       [ 0.      ,  0.96307 ],\n",
      "       [ 0.      ,  0.975238],\n",
      "       [ 0.      ,  0.982915],\n",
      "       [ 0.      ,  1.00623 ],\n",
      "       [ 0.      ,  1.02615 ],\n",
      "       [ 0.      ,  1.03037 ],\n",
      "       [ 0.      ,  1.03246 ],\n",
      "       [ 0.      ,  1.03547 ],\n",
      "       [ 0.      ,  1.12672 ],\n",
      "       [ 0.      ,  1.16393 ],\n",
      "       [ 0.      ,  1.17257 ],\n",
      "       [ 0.      ,  2.5     ]]), 1: array([[ 1.74168 ,  1.76572 ],\n",
      "       [ 1.55512 ,  1.56712 ],\n",
      "       [ 1.45234 ,  1.46529 ],\n",
      "       [ 1.42535 ,  1.44109 ],\n",
      "       [ 1.41423 ,  1.64224 ],\n",
      "       [ 1.38801 ,  1.51471 ],\n",
      "       [ 1.35443 ,  1.39312 ],\n",
      "       [ 1.34589 ,  1.35671 ],\n",
      "       [ 1.30335 ,  1.47284 ],\n",
      "       [ 1.29271 ,  1.58319 ],\n",
      "       [ 1.28801 ,  1.40197 ],\n",
      "       [ 1.27517 ,  1.3144  ],\n",
      "       [ 1.25199 ,  1.31771 ],\n",
      "       [ 1.24953 ,  1.57075 ],\n",
      "       [ 1.24881 ,  1.24898 ],\n",
      "       [ 1.22738 ,  1.36848 ],\n",
      "       [ 1.20897 ,  1.35322 ],\n",
      "       [ 1.20629 ,  1.43172 ],\n",
      "       [ 1.20584 ,  1.2483  ],\n",
      "       [ 1.20326 ,  1.2616  ],\n",
      "       [ 1.13652 ,  1.41745 ],\n",
      "       [ 1.13312 ,  1.13878 ],\n",
      "       [ 1.1161  ,  1.24618 ],\n",
      "       [ 1.10103 ,  1.29786 ],\n",
      "       [ 1.09097 ,  1.11966 ],\n",
      "       [ 1.09076 ,  1.28529 ],\n",
      "       [ 1.07915 ,  1.09629 ],\n",
      "       [ 1.07237 ,  1.20566 ],\n",
      "       [ 1.06706 ,  1.21659 ],\n",
      "       [ 1.05882 ,  1.14101 ],\n",
      "       [ 1.05797 ,  1.10981 ],\n",
      "       [ 1.0562  ,  1.08835 ],\n",
      "       [ 1.04926 ,  1.30158 ],\n",
      "       [ 1.04274 ,  1.48112 ],\n",
      "       [ 1.03927 ,  1.26508 ],\n",
      "       [ 1.03694 ,  1.0436  ],\n",
      "       [ 1.02198 ,  1.36983 ],\n",
      "       [ 1.00298 ,  1.03526 ],\n",
      "       [ 1.00188 ,  1.07744 ],\n",
      "       [ 0.996103,  1.38197 ],\n",
      "       [ 0.995023,  1.4905  ],\n",
      "       [ 0.990455,  1.25052 ],\n",
      "       [ 0.989246,  1.15402 ],\n",
      "       [ 0.985629,  1.60625 ],\n",
      "       [ 0.981546,  1.02491 ],\n",
      "       [ 0.980842,  0.990267],\n",
      "       [ 0.979099,  1.65645 ],\n",
      "       [ 0.978245,  0.982219],\n",
      "       [ 0.976823,  1.13167 ],\n",
      "       [ 0.967375,  1.66877 ],\n",
      "       [ 0.961438,  1.12481 ],\n",
      "       [ 0.952038,  1.21889 ],\n",
      "       [ 0.945288,  1.18626 ],\n",
      "       [ 0.944422,  1.95625 ],\n",
      "       [ 0.905834,  0.988563],\n",
      "       [ 0.905371,  0.949009],\n",
      "       [ 0.888755,  0.891269],\n",
      "       [ 0.886363,  0.902921],\n",
      "       [ 0.875205,  1.28011 ],\n",
      "       [ 0.873478,  1.09453 ],\n",
      "       [ 0.870624,  1.87059 ],\n",
      "       [ 0.864138,  1.01726 ],\n",
      "       [ 0.856002,  1.23939 ],\n",
      "       [ 0.849612,  0.852871],\n",
      "       [ 0.846929,  1.22376 ],\n",
      "       [ 0.845185,  1.0287  ],\n",
      "       [ 0.83991 ,  0.921768],\n",
      "       [ 0.833207,  0.954317],\n",
      "       [ 0.830877,  0.975537],\n",
      "       [ 0.82965 ,  0.976863],\n",
      "       [ 0.828432,  0.834931],\n",
      "       [ 0.824848,  0.998386],\n",
      "       [ 0.823619,  0.834037],\n",
      "       [ 0.820383,  1.0019  ],\n",
      "       [ 0.819152,  0.824314],\n",
      "       [ 0.812267,  1.02388 ],\n",
      "       [ 0.811051,  1.10337 ],\n",
      "       [ 0.776943,  0.917307],\n",
      "       [ 0.730734,  0.767049],\n",
      "       [ 0.726918,  0.794545],\n",
      "       [ 0.68186 ,  0.696727],\n",
      "       [ 0.660084,  0.82189 ],\n",
      "       [ 0.607498,  0.931488],\n",
      "       [ 0.541226,  0.560736]]), 2: array([[ 2.18268,  2.19088],\n",
      "       [ 2.13561,  2.17931],\n",
      "       [ 2.11015,  2.17062],\n",
      "       [ 2.05172,  2.108  ],\n",
      "       [ 2.04805,  2.12124],\n",
      "       [ 2.04149,  2.11948],\n",
      "       [ 2.02867,  2.14607],\n",
      "       [ 2.0041 ,  2.32737],\n",
      "       [ 2.00405,  2.00864],\n",
      "       [ 1.99652,  2.15548],\n",
      "       [ 1.88052,  2.04288],\n",
      "       [ 1.81611,  2.438  ],\n",
      "       [ 1.79328,  1.83043],\n",
      "       [ 1.71652,  1.71924],\n",
      "       [ 1.7104 ,  1.72092],\n",
      "       [ 1.3823 ,  1.42057],\n",
      "       [ 1.26251,  1.40586],\n",
      "       [ 1.11189,  1.20476],\n",
      "       [ 1.0084 ,  1.01309]]), 'file': 'temp/torus_persistence.txt', 'range': [0.197457, 5.16955], 'nb_neuron': 200, 'params': {'max_persistence': 2.5, 'dim': 2, 'seed': 0, 'n_points': 200, 'deviation': [0.1, 0.1], 'shape': 'torus', 'all_seeds': range(0, 5000), 'threshold': 10}}\n"
     ]
    }
   ],
   "source": [
    "# load a file\n",
    "seed = 0\n",
    "with open('../../../heavy_files/exercises/ml_on_1_to_3/torus_persistences/' + str(0) + '.txt', \"rb\") as myFile:\n",
    "    myNewPulledInDictionary = pickle.load(myFile)\n",
    "\n",
    "print(myNewPulledInDictionary)"
   ]
  },
  {
   "cell_type": "raw",
   "metadata": {
    "collapsed": false
   },
   "source": [
    "distance_matrix, params = create_torus_distance_matrix(params)"
   ]
  },
  {
   "cell_type": "raw",
   "metadata": {
    "collapsed": true
   },
   "source": [
    "# export to temporary file\n",
    "np.savetxt(\"temp/torus_distance.txt\", distance_matrix, delimiter=\",\")"
   ]
  },
  {
   "cell_type": "raw",
   "metadata": {
    "collapsed": true
   },
   "source": [
    "!cd ../../../ripser; \\\n",
    "./ripser --format distance --dim {params['dim']} --threshold {params['threshold']} \\\n",
    "'../topology_immersion_Henrik/exercises/exercise_3/temp_distance.txt \\\n",
    "> ../topology_immersion_Henrik/exercises/exercise_3/temp_persistence.txt'"
   ]
  },
  {
   "cell_type": "raw",
   "metadata": {
    "collapsed": true
   },
   "source": [
    "# extract data\n",
    "data = ripser_to_dict('temp_persistence.txt',params)"
   ]
  },
  {
   "cell_type": "raw",
   "metadata": {
    "collapsed": true
   },
   "source": [
    "# plot diagrams\n",
    "fig = plot_persistence(data,params)"
   ]
  },
  {
   "cell_type": "raw",
   "metadata": {
    "collapsed": true
   },
   "source": [
    "serial_result = map(lambda x:x**10, range(32))"
   ]
  },
  {
   "cell_type": "raw",
   "metadata": {
    "collapsed": false
   },
   "source": [
    "parallel_result = dview.map_sync(lambda x: x**10, range(32))"
   ]
  },
  {
   "cell_type": "raw",
   "metadata": {
    "collapsed": false
   },
   "source": [
    "serial_result==parallel_result"
   ]
  },
  {
   "cell_type": "raw",
   "metadata": {
    "collapsed": false
   },
   "source": [
    "import ipyparallel as ipp"
   ]
  },
  {
   "cell_type": "raw",
   "metadata": {
    "collapsed": true
   },
   "source": [
    "c = ipp.Client()"
   ]
  },
  {
   "cell_type": "raw",
   "metadata": {
    "collapsed": false
   },
   "source": [
    "c.ids"
   ]
  },
  {
   "cell_type": "raw",
   "metadata": {
    "collapsed": false
   },
   "source": [
    "c[:].apply_sync(lambda : 'hellu')"
   ]
  },
  {
   "cell_type": "raw",
   "metadata": {
    "collapsed": true
   },
   "source": [
    "dview = c[:] # use all engines"
   ]
  },
  {
   "cell_type": "raw",
   "metadata": {
    "collapsed": true
   },
   "source": [
    "serial_result = list(map(lambda x:x**10, range(32)))"
   ]
  },
  {
   "cell_type": "raw",
   "metadata": {
    "collapsed": true
   },
   "source": [
    "parallel_result = dview.map_sync(lambda x: x**10, range(32))"
   ]
  },
  {
   "cell_type": "raw",
   "metadata": {
    "collapsed": false
   },
   "source": [
    "serial_result == parallel_result"
   ]
  },
  {
   "cell_type": "raw",
   "metadata": {
    "collapsed": false
   },
   "source": [
    "dview.block=True\n",
    "\n",
    "dview['a'] = 5\n",
    "\n",
    "dview['b'] = 10\n",
    "\n",
    "dview.apply(lambda x: a+b+x, 25)"
   ]
  },
  {
   "cell_type": "raw",
   "metadata": {
    "collapsed": false
   },
   "source": [
    "'!ipcluster start -n 4'"
   ]
  },
  {
   "cell_type": "code",
   "execution_count": 12,
   "metadata": {
    "collapsed": false
   },
   "outputs": [
    {
     "ename": "SyntaxError",
     "evalue": "invalid syntax (<ipython-input-12-724cd97c378d>, line 1)",
     "output_type": "error",
     "traceback": [
      "\u001b[0;36m  File \u001b[0;32m\"<ipython-input-12-724cd97c378d>\"\u001b[0;36m, line \u001b[0;32m1\u001b[0m\n\u001b[0;31m    print(random(,3))\u001b[0m\n\u001b[0m                 ^\u001b[0m\n\u001b[0;31mSyntaxError\u001b[0m\u001b[0;31m:\u001b[0m invalid syntax\n"
     ]
    }
   ],
   "source": []
  },
  {
   "cell_type": "code",
   "execution_count": null,
   "metadata": {
    "collapsed": true
   },
   "outputs": [],
   "source": []
  }
 ],
 "metadata": {
  "kernelspec": {
   "display_name": "Python [Root]",
   "language": "python",
   "name": "Python [Root]"
  },
  "language_info": {
   "codemirror_mode": {
    "name": "ipython",
    "version": 3
   },
   "file_extension": ".py",
   "mimetype": "text/x-python",
   "name": "python",
   "nbconvert_exporter": "python",
   "pygments_lexer": "ipython3",
   "version": "3.5.2"
  }
 },
 "nbformat": 4,
 "nbformat_minor": 0
}
