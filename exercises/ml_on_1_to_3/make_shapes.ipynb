{
 "cells": [
  {
   "cell_type": "markdown",
   "metadata": {},
   "source": [
    "# Make Shapes and Create their Persistence Diagrams"
   ]
  },
  {
   "cell_type": "markdown",
   "metadata": {},
   "source": [
    "## Load packages"
   ]
  },
  {
   "cell_type": "code",
   "execution_count": 13,
   "metadata": {
    "collapsed": false
   },
   "outputs": [],
   "source": [
    "import numpy as np\n",
    "import matplotlib.pyplot as plt\n",
    "%matplotlib inline\n",
    "import sys\n",
    "path = '../../scripts/'\n",
    "sys.path.insert(0,path)\n",
    "from RipserToDict import ripser_to_dict\n",
    "from PlotPersistence import plot_persistence\n",
    "import pickle as pickle"
   ]
  },
  {
   "cell_type": "markdown",
   "metadata": {},
   "source": [
    "## Parameters"
   ]
  },
  {
   "cell_type": "code",
   "execution_count": 2,
   "metadata": {
    "collapsed": false
   },
   "outputs": [],
   "source": [
    "# general params\n",
    "params = {\n",
    "    'all_seeds': range(0,5000),\n",
    "    'dim': 2,\n",
    "    'max_persistence': 2.5,\n",
    "    'n_points': 200,\n",
    "    'threshold': 10\n",
    "}"
   ]
  },
  {
   "cell_type": "code",
   "execution_count": 3,
   "metadata": {
    "collapsed": true
   },
   "outputs": [],
   "source": [
    "# circle params\n",
    "circle_params = params.copy()\n",
    "circle_params['deviation'] = 0.1\n",
    "circle_params['dim'] = 1"
   ]
  },
  {
   "cell_type": "code",
   "execution_count": 4,
   "metadata": {
    "collapsed": true
   },
   "outputs": [],
   "source": [
    "# sphere params\n",
    "sphere_params = params.copy()\n",
    "sphere_params['deviation'] = 0.1"
   ]
  },
  {
   "cell_type": "code",
   "execution_count": 5,
   "metadata": {
    "collapsed": false
   },
   "outputs": [
    {
     "name": "stdout",
     "output_type": "stream",
     "text": [
      "{'n_points': 200, 'dim': 2, 'max_persistence': 2.5, 'deviation': [0.1, 0.1], 'all_seeds': range(0, 5000), 'threshold': 10}\n"
     ]
    }
   ],
   "source": [
    "# torus params\n",
    "torus_params = params.copy()\n",
    "torus_params['deviation'] = [0.1,0.1]\n",
    "print(torus_params)"
   ]
  },
  {
   "cell_type": "markdown",
   "metadata": {},
   "source": [
    "## Functions"
   ]
  },
  {
   "cell_type": "code",
   "execution_count": 6,
   "metadata": {
    "collapsed": true
   },
   "outputs": [],
   "source": [
    "def create_circle_distance_matrix(params):\n",
    "    n_points = params['n_points']\n",
    "    dev = params['deviation']\n",
    "    seed = params['seed']\n",
    "    \n",
    "    # construct unit circle, r=1±dev, 0<theta<2*pi\n",
    "    np.random.seed(seed=seed)\n",
    "    circular_coords = np.random.rand(2,n_points)\n",
    "    circular_coords[0,:] = 1. - dev/2. + dev*circular_coords[0,:]\n",
    "    circular_coords[1,:] = 2*np.pi*circular_coords[1,:]\n",
    "    \n",
    "    # transform into Euclidean\n",
    "    Euclidean_coords = np.zeros((2,n_points))\n",
    "    Euclidean_coords[0,:] = circular_coords[0,:]*np.cos(circular_coords[1,:])\n",
    "    Euclidean_coords[1,:] = circular_coords[1,:]*np.sin(circular_coords[1,:])\n",
    "    \n",
    "    # calculate distances\n",
    "    distance_matrix = np.zeros((n_points,n_points))\n",
    "    for i in range(n_points):\n",
    "        for j in range(n_points):\n",
    "            distance_matrix[i,j] = np.sqrt(\n",
    "            (Euclidean_coords[0,i] - Euclidean_coords[0,j])**2\n",
    "            + (Euclidean_coords[1,i] - Euclidean_coords[1,j])**2)\n",
    "            \n",
    "    params['shape'] = 'circle'\n",
    "    return distance_matrix"
   ]
  },
  {
   "cell_type": "code",
   "execution_count": 7,
   "metadata": {
    "collapsed": true
   },
   "outputs": [],
   "source": [
    "def create_sphere_distance_matrix(params):\n",
    "    n_points = params['n_points']\n",
    "    error = params['deviation']\n",
    "    seed = params['seed']\n",
    "    \n",
    "    # construct (unit) sphere in spherical coordinates: r=1±dev, 0<theta<pi, 0<phi<2*pi\n",
    "    np.random.seed(seed=seed)\n",
    "    noisy_spherical_coords = np.random.rand(3,n_points)\n",
    "    noisy_spherical_coords[0,:] = 1. - error/2. + error*noisy_spherical_coords[0,:]\n",
    "    noisy_spherical_coords[1,:] = noisy_spherical_coords[1,:]*np.pi\n",
    "    noisy_spherical_coords[2,:] = noisy_spherical_coords[2,:]*2*np.pi\n",
    "\n",
    "    # transform perfect sphere into Euclidean coordinates\n",
    "    noisy_Euclidean_coords = np.zeros((3,n_points))\n",
    "    noisy_Euclidean_coords[0,:] = noisy_spherical_coords[0,:]*np.sin(noisy_spherical_coords[1,:])*np.cos(noisy_spherical_coords[2,:])\n",
    "    noisy_Euclidean_coords[1,:] = noisy_spherical_coords[0,:]*np.sin(noisy_spherical_coords[1,:])*np.sin(noisy_spherical_coords[2,:])\n",
    "    noisy_Euclidean_coords[2,:] = noisy_spherical_coords[0,:]*np.cos(noisy_spherical_coords[1,:])\n",
    "\n",
    "    # create distance matrix for the perfect sphere\n",
    "    noisy_pairwise_distances = np.zeros((n_points,n_points))\n",
    "    for i in range(n_points):\n",
    "        for j in range(n_points):\n",
    "            noisy_pairwise_distances[i,j] = np.sqrt(\n",
    "                (noisy_Euclidean_coords[0,j] - noisy_Euclidean_coords[0,i])**2\n",
    "                + (noisy_Euclidean_coords[1,j] - noisy_Euclidean_coords[1,i])**2\n",
    "                + (noisy_Euclidean_coords[2,j] - noisy_Euclidean_coords[2,i])**2\n",
    "            )\n",
    "    \n",
    "    params['shape'] = 'sphere'\n",
    "    return noisy_pairwise_distances"
   ]
  },
  {
   "cell_type": "code",
   "execution_count": 8,
   "metadata": {
    "collapsed": true
   },
   "outputs": [],
   "source": [
    "def create_torus_distance_matrix(params):\n",
    "    n_points = params['n_points']\n",
    "    seed = params['seed']\n",
    "    deviation = params['deviation']\n",
    "    \n",
    "    # create noise\n",
    "    a = 1. - deviation[0]/2. + np.random.rand(1,n_points)\n",
    "    b = 1. - deviation[1]/2. + np.random.rand(1,n_points)\n",
    "    \n",
    "    # create random points\n",
    "    np.random.seed(seed=seed)\n",
    "    random_points = 2*np.pi*np.random.rand(2,n_points)\n",
    "    R4_coords = np.zeros((4,n_points))\n",
    "    R4_coords[0,:] = a*np.cos(random_points[0,:])\n",
    "    R4_coords[1,:] = a*np.sin(random_points[0,:])\n",
    "    R4_coords[2,:] = b*np.cos(random_points[1,:])\n",
    "    R4_coords[3,:] = b*np.sin(random_points[1,:])\n",
    "    \n",
    "    # calculate distances\n",
    "    distance_matrix = np.zeros((n_points,n_points))\n",
    "    for i in range(n_points):\n",
    "        for j in range(n_points):\n",
    "            distance_matrix[i,j] = np.sqrt(\n",
    "            (R4_coords[0,i] - R4_coords[0,j])**2\n",
    "            + (R4_coords[1,i] - R4_coords[1,j])**2\n",
    "            + (R4_coords[2,i] - R4_coords[2,j])**2\n",
    "            + (R4_coords[3,i] - R4_coords[3,j])**2)\n",
    "            \n",
    "    params['shape'] = 'torus'\n",
    "    return distance_matrix"
   ]
  },
  {
   "cell_type": "markdown",
   "metadata": {},
   "source": [
    "## Calculations"
   ]
  },
  {
   "cell_type": "code",
   "execution_count": 9,
   "metadata": {
    "collapsed": false
   },
   "outputs": [],
   "source": [
    "# circles\n",
    "for seed in circle_params['all_seeds']:\n",
    "    \n",
    "    circle_params['seed'] = seed\n",
    "    circle_distance_matrix = create_circle_distance_matrix(circle_params)\n",
    "    np.savetxt(\"temp/circle_distance.txt\", circle_distance_matrix, delimiter=\",\")\n",
    "    \n",
    "    !cd ../../../ripser; \\\n",
    "    ./ripser --format distance --dim {circle_params['dim']} --threshold {circle_params['threshold']} \\\n",
    "    ../topology_immersion_Henrik/exercises/ml_on_1_to_3/temp/circle_distance.txt \\\n",
    "    > ../topology_immersion_Henrik/exercises/ml_on_1_to_3/temp/circle_persistence.txt\n",
    "    \n",
    "    circle_persistence = ripser_to_dict('temp/circle_persistence.txt',params).copy()\n",
    "    circle_persistence['params'] = circle_params\n",
    "    \n",
    "    with open('../../../heavy_files/exercises/ml_on_1_to_3/circle_persistences/' + str(seed) + '.txt', \"wb\") as myFile:\n",
    "        pickle.dump(circle_persistence, myFile)"
   ]
  },
  {
   "cell_type": "code",
   "execution_count": 10,
   "metadata": {
    "collapsed": false
   },
   "outputs": [],
   "source": [
    "# spheres\n",
    "for seed in sphere_params['all_seeds']:\n",
    "    \n",
    "    sphere_params['seed'] = seed\n",
    "    sphere_distance_matrix = create_sphere_distance_matrix(sphere_params)\n",
    "    np.savetxt(\"temp/sphere_distance.txt\", sphere_distance_matrix, delimiter=\",\")\n",
    "    \n",
    "    !cd ../../../ripser; \\\n",
    "    ./ripser --format distance --dim {sphere_params['dim']} --threshold {sphere_params['threshold']} \\\n",
    "    ../topology_immersion_Henrik/exercises/ml_on_1_to_3/temp/sphere_distance.txt \\\n",
    "    > ../topology_immersion_Henrik/exercises/ml_on_1_to_3/temp/sphere_persistence.txt\n",
    "    \n",
    "    sphere_persistence = ripser_to_dict('temp/sphere_persistence.txt',params).copy()\n",
    "    sphere_persistence['params'] = sphere_params\n",
    "    \n",
    "    with open('../../../heavy_files/exercises/ml_on_1_to_3/sphere_persistences/' + str(seed) + '.txt', \"wb\") as myFile:\n",
    "        pickle.dump(sphere_persistence, myFile)"
   ]
  },
  {
   "cell_type": "code",
   "execution_count": 11,
   "metadata": {
    "collapsed": false
   },
   "outputs": [
    {
     "name": "stdout",
     "output_type": "stream",
     "text": [
      "max_persistence is too small\n",
      "max_persistence is too small\n",
      "max_persistence is too small\n",
      "max_persistence is too small\n",
      "max_persistence is too small\n",
      "max_persistence is too small\n",
      "max_persistence is too small\n",
      "max_persistence is too small\n",
      "max_persistence is too small\n",
      "max_persistence is too small\n",
      "max_persistence is too small\n",
      "max_persistence is too small\n",
      "max_persistence is too small\n",
      "max_persistence is too small\n",
      "max_persistence is too small\n",
      "max_persistence is too small\n",
      "max_persistence is too small\n",
      "max_persistence is too small\n"
     ]
    }
   ],
   "source": [
    "# toruses\n",
    "for seed in torus_params['all_seeds']:\n",
    "\n",
    "    torus_params['seed'] = seed\n",
    "    torus_distance_matrix = create_torus_distance_matrix(torus_params)\n",
    "    np.savetxt(\"temp/torus_distance.txt\", torus_distance_matrix, delimiter=\",\")\n",
    "    \n",
    "    !cd ../../../ripser; \\\n",
    "    ./ripser --format distance --dim {torus_params['dim']} --threshold {torus_params['threshold']} \\\n",
    "    ../topology_immersion_Henrik/exercises/ml_on_1_to_3/temp/torus_distance.txt \\\n",
    "    > ../topology_immersion_Henrik/exercises/ml_on_1_to_3/temp/torus_persistence.txt\n",
    "    \n",
    "    torus_persistence = ripser_to_dict('temp/torus_persistence.txt',params).copy()\n",
    "    torus_persistence['params'] = torus_params\n",
    "    \n",
    "    with open('../../../heavy_files/exercises/ml_on_1_to_3/torus_persistences/' + str(seed) + '.txt', \"wb\") as myFile:\n",
    "        pickle.dump(torus_persistence, myFile)\n",
    "    "
   ]
  },
  {
   "cell_type": "markdown",
   "metadata": {},
   "source": [
    "## Henceforth, nothing of value"
   ]
  },
  {
   "cell_type": "raw",
   "metadata": {
    "collapsed": false
   },
   "source": [
    "# load a file\n",
    "seed = 0\n",
    "with open('../../../heavy_files/exercises/ml_on_1_to_3/torus_persistences/' + str(seed) + '.txt', \"rb\") as myFile:\n",
    "    myNewPulledInDictionary = pickle.load(myFile)\n",
    "\n",
    "print(myNewPulledInDictionary)"
   ]
  },
  {
   "cell_type": "raw",
   "metadata": {
    "collapsed": false
   },
   "source": [
    "distance_matrix, params = create_torus_distance_matrix(params)"
   ]
  },
  {
   "cell_type": "raw",
   "metadata": {
    "collapsed": true
   },
   "source": [
    "# export to temporary file\n",
    "np.savetxt(\"temp/torus_distance.txt\", distance_matrix, delimiter=\",\")"
   ]
  },
  {
   "cell_type": "raw",
   "metadata": {
    "collapsed": true
   },
   "source": [
    "!cd ../../../ripser; \\\n",
    "./ripser --format distance --dim {params['dim']} --threshold {params['threshold']} \\\n",
    "'../topology_immersion_Henrik/exercises/exercise_3/temp_distance.txt \\\n",
    "> ../topology_immersion_Henrik/exercises/exercise_3/temp_persistence.txt'"
   ]
  },
  {
   "cell_type": "raw",
   "metadata": {
    "collapsed": true
   },
   "source": [
    "# extract data\n",
    "data = ripser_to_dict('temp_persistence.txt',params)"
   ]
  },
  {
   "cell_type": "raw",
   "metadata": {
    "collapsed": true
   },
   "source": [
    "# plot diagrams\n",
    "fig = plot_persistence(data,params)"
   ]
  },
  {
   "cell_type": "raw",
   "metadata": {
    "collapsed": true
   },
   "source": [
    "serial_result = map(lambda x:x**10, range(32))"
   ]
  },
  {
   "cell_type": "raw",
   "metadata": {
    "collapsed": false
   },
   "source": [
    "parallel_result = dview.map_sync(lambda x: x**10, range(32))"
   ]
  },
  {
   "cell_type": "raw",
   "metadata": {
    "collapsed": false
   },
   "source": [
    "serial_result==parallel_result"
   ]
  },
  {
   "cell_type": "raw",
   "metadata": {
    "collapsed": false
   },
   "source": [
    "import ipyparallel as ipp"
   ]
  },
  {
   "cell_type": "raw",
   "metadata": {
    "collapsed": true
   },
   "source": [
    "c = ipp.Client()"
   ]
  },
  {
   "cell_type": "raw",
   "metadata": {
    "collapsed": false
   },
   "source": [
    "c.ids"
   ]
  },
  {
   "cell_type": "raw",
   "metadata": {
    "collapsed": false
   },
   "source": [
    "c[:].apply_sync(lambda : 'hellu')"
   ]
  },
  {
   "cell_type": "raw",
   "metadata": {
    "collapsed": true
   },
   "source": [
    "dview = c[:] # use all engines"
   ]
  },
  {
   "cell_type": "raw",
   "metadata": {
    "collapsed": true
   },
   "source": [
    "serial_result = list(map(lambda x:x**10, range(32)))"
   ]
  },
  {
   "cell_type": "raw",
   "metadata": {
    "collapsed": true
   },
   "source": [
    "parallel_result = dview.map_sync(lambda x: x**10, range(32))"
   ]
  },
  {
   "cell_type": "raw",
   "metadata": {
    "collapsed": false
   },
   "source": [
    "serial_result == parallel_result"
   ]
  },
  {
   "cell_type": "raw",
   "metadata": {
    "collapsed": false
   },
   "source": [
    "dview.block=True\n",
    "\n",
    "dview['a'] = 5\n",
    "\n",
    "dview['b'] = 10\n",
    "\n",
    "dview.apply(lambda x: a+b+x, 25)"
   ]
  },
  {
   "cell_type": "raw",
   "metadata": {
    "collapsed": false
   },
   "source": [
    "'!ipcluster start -n 4'"
   ]
  },
  {
   "cell_type": "code",
   "execution_count": 12,
   "metadata": {
    "collapsed": false
   },
   "outputs": [
    {
     "ename": "SyntaxError",
     "evalue": "invalid syntax (<ipython-input-12-724cd97c378d>, line 1)",
     "output_type": "error",
     "traceback": [
      "\u001b[0;36m  File \u001b[0;32m\"<ipython-input-12-724cd97c378d>\"\u001b[0;36m, line \u001b[0;32m1\u001b[0m\n\u001b[0;31m    print(random(,3))\u001b[0m\n\u001b[0m                 ^\u001b[0m\n\u001b[0;31mSyntaxError\u001b[0m\u001b[0;31m:\u001b[0m invalid syntax\n"
     ]
    }
   ],
   "source": []
  },
  {
   "cell_type": "code",
   "execution_count": null,
   "metadata": {
    "collapsed": true
   },
   "outputs": [],
   "source": []
  }
 ],
 "metadata": {
  "kernelspec": {
   "display_name": "Python [Root]",
   "language": "python",
   "name": "Python [Root]"
  },
  "language_info": {
   "codemirror_mode": {
    "name": "ipython",
    "version": 3
   },
   "file_extension": ".py",
   "mimetype": "text/x-python",
   "name": "python",
   "nbconvert_exporter": "python",
   "pygments_lexer": "ipython3",
   "version": "3.5.2"
  }
 },
 "nbformat": 4,
 "nbformat_minor": 0
}
