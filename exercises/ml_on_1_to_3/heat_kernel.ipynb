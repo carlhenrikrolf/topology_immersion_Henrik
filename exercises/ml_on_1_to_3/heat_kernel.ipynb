{
 "cells": [
  {
   "cell_type": "markdown",
   "metadata": {},
   "source": [
    "# Heat kernel"
   ]
  },
  {
   "cell_type": "code",
   "execution_count": 1,
   "metadata": {
    "collapsed": true
   },
   "outputs": [],
   "source": [
    "sigma = 0.1"
   ]
  },
  {
   "cell_type": "markdown",
   "metadata": {},
   "source": [
    "## Load packages"
   ]
  },
  {
   "cell_type": "code",
   "execution_count": 2,
   "metadata": {
    "collapsed": true
   },
   "outputs": [],
   "source": [
    "import numpy as np\n",
    "import matplotlib.pyplot as plt\n",
    "%matplotlib inline\n",
    "import sys\n",
    "path = '../../scripts/'\n",
    "sys.path.insert(0,path)\n",
    "from RipserToDict import ripser_to_dict\n",
    "from PlotPersistence import plot_persistence\n",
    "import pickle"
   ]
  },
  {
   "cell_type": "markdown",
   "metadata": {},
   "source": [
    "## Functions"
   ]
  },
  {
   "cell_type": "code",
   "execution_count": 3,
   "metadata": {
    "collapsed": false
   },
   "outputs": [],
   "source": [
    "def heat_kernel(F,G,sigma):\n",
    "    \n",
    "    \"\"\"Let F and G be PH matrices of dimensions n_points x 2, where the columns are birth and death respectively.\n",
    "    The matrices are thus only for one dim each, e.g. 0 or 1 or 2.\n",
    "    sigma is a scalar parameter which may be taken to be 0.1.\n",
    "    The output is the heat kernel\"\"\"\n",
    "\n",
    "    kernel = 0\n",
    "    for z in G:\n",
    "        for y in F:\n",
    "            kernel += np.exp(-np.linalg.norm(y - z,ord=2)**2/(8.*sigma))\n",
    "            kernel += -np.exp(-np.linalg.norm(y - np.flipud(z),ord=2)**2/(8.*sigma))\n",
    "    kernel *= 1./(8.*np.pi*sigma)\n",
    "\n",
    "    return kernel"
   ]
  },
  {
   "cell_type": "code",
   "execution_count": 4,
   "metadata": {
    "collapsed": true
   },
   "outputs": [],
   "source": [
    "def heat_kernel_distance(F,G,sigma):\n",
    "    \n",
    "    \"\"\"Let F and G be PH matrices of dimensions n_points x 2, where the columns are birth and death respectively.\n",
    "    The matrices are thus only for one dim each, e.g. 0 or 1 or 2.\n",
    "    sigma is a scalar parameter which may be taken to be 0.1.\n",
    "    The output is the heat kernel distance\"\"\"\n",
    "    \n",
    "    inner = heat_kernel(F,F,sigma) + heat_kernel(G,G,sigma) - 2*heat_kernel(F,G,sigma)\n",
    "    distance = np.sqrt(heat_kernel(F,F,sigma) + heat_kernel(G,G,sigma) - 2*heat_kernel(F,G,sigma))\n",
    "    \n",
    "    return distance"
   ]
  },
  {
   "cell_type": "markdown",
   "metadata": {},
   "source": [
    "## Create labels and train kernel"
   ]
  },
  {
   "cell_type": "raw",
   "metadata": {
    "collapsed": false
   },
   "source": [
    "seed = 0\n",
    "with open('../../../heavy_files/exercises/ml_on_1_to_3/torus_persistences/' + str(seed) + '.txt', \"rb\") as myFile:\n",
    "    persistence_seed_0 = pickle.load(myFile)\n",
    "    \n",
    "seed = 1\n",
    "with open('../../../heavy_files/exercises/ml_on_1_to_3/torus_persistences/' + str(seed) + '.txt', \"rb\") as myFile:\n",
    "    persistence_seed_1 = pickle.load(myFile)"
   ]
  },
  {
   "cell_type": "code",
   "execution_count": 5,
   "metadata": {
    "collapsed": false
   },
   "outputs": [],
   "source": [
    "# load train set\n",
    "train_seeds = range(0,5)\n",
    "train_persistences = []\n",
    "train_labels = []\n",
    "for seed in train_seeds:\n",
    "    \n",
    "    # sphere\n",
    "    with open('../../../heavy_files/exercises/ml_on_1_to_3/sphere_persistences/' + str(seed) + '.txt','rb') as f:\n",
    "        train_persistences.append(pickle.load(f))\n",
    "    train_labels.append(0)\n",
    "    \n",
    "    # torus\n",
    "    with open('../../../heavy_files/exercises/ml_on_1_to_3/torus_persistences/' + str(seed) + '.txt','rb') as f:\n",
    "        train_persistences.append(pickle.load(f))\n",
    "    train_labels.append(1)"
   ]
  },
  {
   "cell_type": "raw",
   "metadata": {},
   "source": [
    "print([train_persistences[x][1] for x in train_seeds])\n",
    "print(labels)"
   ]
  },
  {
   "cell_type": "code",
   "execution_count": 6,
   "metadata": {
    "collapsed": false
   },
   "outputs": [],
   "source": [
    "train_kernel = np.zeros((len(train_labels),len(train_labels)))\n",
    "train_homology = [train_persistences[x][1] for x in train_seeds]\n",
    "for x, i in enumerate(train_homology):\n",
    "    for y, j in enumerate(train_homology):\n",
    "        train_kernel[x,y] = heat_kernel(i,j,sigma)"
   ]
  },
  {
   "cell_type": "code",
   "execution_count": 7,
   "metadata": {
    "collapsed": false
   },
   "outputs": [],
   "source": [
    "# export\n",
    "with open('train_kernel.txt','wb') as f:\n",
    "    pickle.dump(train_kernel,f)\n",
    "\n",
    "with open('train_labels.txt','wb') as f:\n",
    "    pickle.dump(train_labels,f)"
   ]
  },
  {
   "cell_type": "markdown",
   "metadata": {},
   "source": [
    "## Create test kernel and test labels"
   ]
  },
  {
   "cell_type": "code",
   "execution_count": 8,
   "metadata": {
    "collapsed": true
   },
   "outputs": [],
   "source": [
    "# load test set\n",
    "test_seeds = range(5,10)\n",
    "test_persistences = []\n",
    "test_labels = []\n",
    "for seed in test_seeds:\n",
    "    \n",
    "    # sphere\n",
    "    with open('../../../heavy_files/exercises/ml_on_1_to_3/sphere_persistences/' + str(seed) + '.txt','rb') as f:\n",
    "        test_persistences.append(pickle.load(f))\n",
    "    test_labels.append(0)\n",
    "    \n",
    "    # torus\n",
    "    with open('../../../heavy_files/exercises/ml_on_1_to_3/torus_persistences/' + str(seed) + '.txt','rb') as f:\n",
    "        test_persistences.append(pickle.load(f))\n",
    "    test_labels.append(1)"
   ]
  },
  {
   "cell_type": "code",
   "execution_count": 9,
   "metadata": {
    "collapsed": false
   },
   "outputs": [],
   "source": [
    "test_kernel = np.zeros((len(test_labels),len(test_labels)))\n",
    "test_homology = [test_persistences[x][1] for x in range(len(test_seeds))]\n",
    "for x, i in enumerate(test_homology):\n",
    "    for y, j in enumerate(test_homology):\n",
    "        test_kernel[x,y] = heat_kernel(i,j,sigma)"
   ]
  },
  {
   "cell_type": "code",
   "execution_count": 10,
   "metadata": {
    "collapsed": true
   },
   "outputs": [],
   "source": [
    "# export\n",
    "with open('test_kernel.txt','wb') as f:\n",
    "    pickle.dump(test_kernel,f)\n",
    "\n",
    "with open('test_labels.txt','wb') as f:\n",
    "    pickle.dump(test_labels,f)"
   ]
  },
  {
   "cell_type": "raw",
   "metadata": {
    "collapsed": false,
    "scrolled": false
   },
   "source": [
    "F = persistence_seed_0[0]\n",
    "G = persistence_seed_1[0]\n",
    "sigma = 0.1\n",
    "k = heat_kernel(F,G,sigma)\n",
    "print(k)\n",
    "d = heat_kernel_distance(F,G,sigma)\n",
    "print(d)"
   ]
  },
  {
   "cell_type": "raw",
   "metadata": {
    "collapsed": false
   },
   "source": [
    "train_kernel = np.zeros((2,2))\n",
    "for x, i in enumerate([F,G]):\n",
    "    for y, j in enumerate([F,G]):\n",
    "        train_kernel[x,y] = heat_kernel(i,j,sigma)\n",
    "print(train_kernel)"
   ]
  },
  {
   "cell_type": "code",
   "execution_count": null,
   "metadata": {
    "collapsed": false
   },
   "outputs": [],
   "source": []
  },
  {
   "cell_type": "code",
   "execution_count": null,
   "metadata": {
    "collapsed": true
   },
   "outputs": [],
   "source": []
  }
 ],
 "metadata": {
  "anaconda-cloud": {},
  "kernelspec": {
   "display_name": "Python [Root]",
   "language": "python",
   "name": "Python [Root]"
  },
  "language_info": {
   "codemirror_mode": {
    "name": "ipython",
    "version": 3
   },
   "file_extension": ".py",
   "mimetype": "text/x-python",
   "name": "python",
   "nbconvert_exporter": "python",
   "pygments_lexer": "ipython3",
   "version": "3.5.2"
  }
 },
 "nbformat": 4,
 "nbformat_minor": 0
}
