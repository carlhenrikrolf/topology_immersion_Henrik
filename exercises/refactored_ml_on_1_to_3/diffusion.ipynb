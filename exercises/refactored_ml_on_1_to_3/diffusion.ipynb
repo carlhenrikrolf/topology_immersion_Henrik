{
 "cells": [
  {
   "cell_type": "code",
   "execution_count": 2,
   "metadata": {
    "collapsed": true
   },
   "outputs": [],
   "source": [
    "import matplotlib.pyplot as plt\n",
    "%matplotlib inline\n",
    "\n",
    "import numpy as np\n",
    "\n",
    "import pickle as pickle\n",
    "\n",
    "import sys\n",
    "path = '../../scripts/'\n",
    "sys.path.insert(0,path)\n",
    "from ripser_to_dict import *\n",
    "#from plot_persistence import *"
   ]
  },
  {
   "cell_type": "code",
   "execution_count": 14,
   "metadata": {
    "collapsed": true
   },
   "outputs": [],
   "source": [
    "with open('params.pickle','rb') as f:\n",
    "    params = pickle.load(f)"
   ]
  },
  {
   "cell_type": "markdown",
   "metadata": {},
   "source": [
    "## Functions"
   ]
  },
  {
   "cell_type": "code",
   "execution_count": 12,
   "metadata": {
    "collapsed": false
   },
   "outputs": [
    {
     "name": "stdout",
     "output_type": "stream",
     "text": [
      "5.92068480261e-44\n"
     ]
    }
   ],
   "source": [
    "sigma = 0.1\n",
    "dx, dy = np.array([0, 0])\n",
    "gaussian = lambda dx, dy: 1. / (2. * np.pi * sigma)\\\n",
    "* np.exp(- 1. / (2. * sigma**2) * (dx**2 + dy**2))\n",
    "print(gaussian(1,1))"
   ]
  },
  {
   "cell_type": "code",
   "execution_count": 37,
   "metadata": {
    "collapsed": true
   },
   "outputs": [],
   "source": [
    "def diffusion(PD,im_size,max_persistence,sigma):\n",
    "    \n",
    "    \"\"\"Creates a Gaussian for each point and adds them together.\"\"\"\n",
    "    \n",
    "    width = im_size[0]\n",
    "    height = im_size[1]\n",
    "    n_points, temp = PD.shape\n",
    "    \n",
    "    Gaussian = lambda dx, dy: 1. / (2. * np.pi * sigma)\\\n",
    "        * np.exp(- 1. / (2. * sigma**2) * (dx**2 + dy**2))\n",
    "    \n",
    "    out_im = np.zeros((height,width))\n",
    "    \n",
    "    for n in range(n_points):\n",
    "        for y in range(height):\n",
    "            for x in range(width):\n",
    "                dx = x * max_persistence / (float)(width - 1) - PD[n,0]\n",
    "                dy = y * max_persistence / (float)(height - 1) - PD[n,1]\n",
    "                out_im[x,y] += gaussian(dx,dy)\n",
    "    \n",
    "    out_im = out_im.T\n",
    "    out_im = np.flipud(out_im)\n",
    "    \n",
    "    return out_im"
   ]
  },
  {
   "cell_type": "raw",
   "metadata": {
    "collapsed": false
   },
   "source": [
    "def create_mnist_library(params):\n",
    "    \n",
    "    im_size = [28, 28]\n",
    "    channel = params['architecture']['channel']\n",
    "    \n",
    "    for shape in params['shapes']['names']:\n",
    "        for seed in params['shapes']['all_seeds']:\n",
    "            with open(params['paths']['code_to_data'] + 'persistences/'\\\n",
    "                      + shape + '/' + str(seed) + '.pickle', \\\n",
    "                      'rb') as f:\n",
    "                temp = pickle.load(f)\n",
    "            PD = temp[channel].copy()\n",
    "            del temp\n",
    "            out_im = closest_pixel(PD,im_size,params['ripser']['max_persistence'])\n",
    "            np.savetxt(params['paths']['code_to_data'] + 'pixelations/mnist/'\\\n",
    "                       + shape + '/' + str(seed) + '-' + str(channel) + '.dat',\\\n",
    "                       out_im, delimiter=',')"
   ]
  },
  {
   "cell_type": "raw",
   "metadata": {
    "collapsed": true
   },
   "source": [
    "def create_cifar_library(params):\n",
    "    \n",
    "    im_size = [32, 32]\n",
    "    channels = params['architecture']['channels']\n",
    "    \n",
    "    percent_complete = 0\n",
    "    for seed in params['shapes']['all_seeds']:\n",
    "        for shape in params['shapes']['names']:\n",
    "            temp = {}\n",
    "            with open(params['paths']['code_to_data'] + 'persistences/'\\\n",
    "                      + shape + '/' + str(seed) + '.pickle', \\\n",
    "                      'rb') as f:\n",
    "                temp = pickle.load(f)\n",
    "            for channel in channels:\n",
    "                if channel in temp:\n",
    "                    PD = temp[channel].copy()\n",
    "                    out_im = closest_pixel(PD,im_size,params['ripser']['max_persistence'])\n",
    "                else:\n",
    "                    out_im = np.zeros(im_size)\n",
    "                np.savetxt(params['paths']['code_to_data'] + 'pixelations/cifar/'\\\n",
    "                       + shape + '/' + str(seed) + '-' + str(channel) + '.dat',\\\n",
    "                       out_im, delimiter=',')\n",
    "                percent_complete += 100. / (len(params['shapes']['names'])\\\n",
    "                                            * len(params['shapes']['all_seeds'])\\\n",
    "                                            * len(channels))\n",
    "                sys.stdout.write('\\rCurrently, %d percent complete in creating cifar library.' %round(percent_complete))\n",
    "                sys.stdout.flush()"
   ]
  },
  {
   "cell_type": "markdown",
   "metadata": {},
   "source": [
    "## Run"
   ]
  },
  {
   "cell_type": "markdown",
   "metadata": {},
   "source": [
    "## Test"
   ]
  },
  {
   "cell_type": "code",
   "execution_count": 39,
   "metadata": {
    "collapsed": false
   },
   "outputs": [
    {
     "data": {
      "text/plain": [
       "<matplotlib.image.AxesImage at 0x111ffb5c0>"
      ]
     },
     "execution_count": 39,
     "metadata": {},
     "output_type": "execute_result"
    },
    {
     "data": {
      "image/png": "[encoded data removed]",
      "text/plain": [
       "<matplotlib.figure.Figure at 0x111f2d160>"
      ]
     },
     "metadata": {},
     "output_type": "display_data"
    }
   ],
   "source": [
    "max_persistence = params['ripser']['max_persistence']\n",
    "sigma = 0.1\n",
    "im_size = [400,400]\n",
    "seed = 0\n",
    "shape = 'torus'\n",
    "all_channels = [0,1,2]\n",
    "out_im = np.zeros((im_size[0],im_size[1],len(all_channels)))\n",
    "for channel in all_channels:\n",
    "    with open(params['paths']['code_to_data'] + 'persistences/'\\\n",
    "                          + shape + '/' + str(seed) + '.pickle', \\\n",
    "                          'rb') as f:\n",
    "        temp = pickle.load(f)\n",
    "    PD = temp[channel].copy()\n",
    "    out_im[:,:,channel] = diffusion(PD,im_size,max_persistence,sigma)\n",
    "plt.imshow(out_im)"
   ]
  },
  {
   "cell_type": "code",
   "execution_count": null,
   "metadata": {
    "collapsed": true
   },
   "outputs": [],
   "source": []
  }
 ],
 "metadata": {
  "anaconda-cloud": {},
  "kernelspec": {
   "display_name": "Python [Root]",
   "language": "python",
   "name": "Python [Root]"
  },
  "language_info": {
   "codemirror_mode": {
    "name": "ipython",
    "version": 3
   },
   "file_extension": ".py",
   "mimetype": "text/x-python",
   "name": "python",
   "nbconvert_exporter": "python",
   "pygments_lexer": "ipython3",
   "version": "3.5.2"
  }
 },
 "nbformat": 4,
 "nbformat_minor": 0
}
