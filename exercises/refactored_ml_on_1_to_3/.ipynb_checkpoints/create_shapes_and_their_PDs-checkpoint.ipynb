{
 "cells": [
  {
   "cell_type": "code",
   "execution_count": 1,
   "metadata": {
    "collapsed": true
   },
   "outputs": [],
   "source": [
    "import matplotlib.pyplot as plt\n",
    "%matplotlib inline\n",
    "\n",
    "import numpy as np\n",
    "\n",
    "import pickle as pickle\n",
    "\n",
    "import sys\n",
    "path = '../../scripts/'\n",
    "sys.path.insert(0,path)\n",
    "from RipserToDict import ripser_to_dict\n",
    "from PlotPersistence import plot_persistence"
   ]
  },
  {
   "cell_type": "code",
   "execution_count": 4,
   "metadata": {
    "collapsed": true
   },
   "outputs": [],
   "source": [
    "with open('params.pickle', 'rb') as f:\n",
    "    params = pickle.load(f)"
   ]
  },
  {
   "cell_type": "markdown",
   "metadata": {},
   "source": [
    "## Functions"
   ]
  },
  {
   "cell_type": "code",
   "execution_count": 9,
   "metadata": {
    "collapsed": true
   },
   "outputs": [],
   "source": [
    "def get_label(string,params):\n",
    "    shapes = params['shapes']\n",
    "    label = 0\n",
    "    for name in shapes['names']:\n",
    "        if name == string:\n",
    "            break\n",
    "        else:\n",
    "            label += 1\n",
    "    return label"
   ]
  },
  {
   "cell_type": "code",
   "execution_count": 21,
   "metadata": {
    "collapsed": true
   },
   "outputs": [],
   "source": [
    "def create_circle_upper_distance_matrix(params):\n",
    "    \n",
    "    # extract parameters\n",
    "    shapes = params['shapes']\n",
    "    label = get_label('circle', params)\n",
    "    dev = shapes['deviations'][label]\n",
    "    n_points = shapes['n_points']\n",
    "    seed = shapes['seed']\n",
    "    \n",
    "    # seed the generator\n",
    "    np.random.seed(seed=seed)\n",
    "    \n",
    "    # construct unit circle, r=1±dev, 0<theta<2*pi\n",
    "    r = 1. - dev / 2. + dev * np.random.rand(1, n_points)\n",
    "    theta = 2. * np.pi * np.random.rand(1, n_points)\n",
    "    \n",
    "    # transform into Euclidean\n",
    "    x = r * np.cos(theta)\n",
    "    y = r * np.sin(theta)\n",
    "    \n",
    "    # calculate distances\n",
    "    upper_distance_matrix = np.zeros((n_points,n_points))\n",
    "    for i in range(n_points):\n",
    "        for j in range(n_points - i):\n",
    "            upper_distance_matrix[i,j] = np.sqrt((x[0,j] - x[0,i])**2 + (y[0,j] - y[0,i])**2)\n",
    "            \n",
    "    return upper_distance_matrix"
   ]
  },
  {
   "cell_type": "markdown",
   "metadata": {},
   "source": [
    "## Run"
   ]
  },
  {
   "cell_type": "code",
   "execution_count": 22,
   "metadata": {
    "collapsed": false
   },
   "outputs": [
    {
     "name": "stdout",
     "output_type": "stream",
     "text": [
      "200\n",
      "[[ 0.          1.90214361  0.21450576 ...,  1.15676038  1.96675081\n",
      "   1.95440468]\n",
      " [ 1.90214361  0.          1.78185519 ...,  1.13888066  0.28996984  0.        ]\n",
      " [ 0.21450576  1.78185519  0.         ...,  0.95712826  0.          0.        ]\n",
      " ..., \n",
      " [ 1.15676038  1.13888066  0.95712826 ...,  0.          0.          0.        ]\n",
      " [ 1.96675081  0.28996984  0.         ...,  0.          0.          0.        ]\n",
      " [ 1.95440468  0.          0.         ...,  0.          0.          0.        ]]\n"
     ]
    }
   ],
   "source": [
    "print(params['shapes']['n_points'])\n",
    "params['shapes']['seed'] = 1\n",
    "label = create_circle_upper_distance_matrix(params)\n",
    "print(label)"
   ]
  },
  {
   "cell_type": "code",
   "execution_count": null,
   "metadata": {
    "collapsed": true
   },
   "outputs": [],
   "source": []
  }
 ],
 "metadata": {
  "kernelspec": {
   "display_name": "Python [Root]",
   "language": "python",
   "name": "Python [Root]"
  },
  "language_info": {
   "codemirror_mode": {
    "name": "ipython",
    "version": 3
   },
   "file_extension": ".py",
   "mimetype": "text/x-python",
   "name": "python",
   "nbconvert_exporter": "python",
   "pygments_lexer": "ipython3",
   "version": "3.5.2"
  }
 },
 "nbformat": 4,
 "nbformat_minor": 0
}
