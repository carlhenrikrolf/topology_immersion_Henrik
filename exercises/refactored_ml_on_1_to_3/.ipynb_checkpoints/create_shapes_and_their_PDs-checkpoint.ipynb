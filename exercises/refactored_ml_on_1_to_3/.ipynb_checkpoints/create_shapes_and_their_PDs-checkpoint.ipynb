{
 "cells": [
  {
   "cell_type": "code",
   "execution_count": 106,
   "metadata": {
    "collapsed": true
   },
   "outputs": [],
   "source": [
    "import matplotlib.pyplot as plt\n",
    "%matplotlib inline\n",
    "\n",
    "import numpy as np\n",
    "\n",
    "import pickle as pickle\n",
    "\n",
    "import sys\n",
    "path = '../../scripts/'\n",
    "sys.path.insert(0,path)\n",
    "from ripser_to_dict import *\n",
    "#from plot_persistence import *"
   ]
  },
  {
   "cell_type": "code",
   "execution_count": 107,
   "metadata": {
    "collapsed": false
   },
   "outputs": [],
   "source": [
    "with open('params.pickle', 'rb') as f:\n",
    "    params = pickle.load(f)"
   ]
  },
  {
   "cell_type": "markdown",
   "metadata": {},
   "source": [
    "## Functions"
   ]
  },
  {
   "cell_type": "code",
   "execution_count": 108,
   "metadata": {
    "collapsed": true
   },
   "outputs": [],
   "source": [
    "def get_label(string,params):\n",
    "    shapes = params['shapes']\n",
    "    label = 0\n",
    "    for name in shapes['names']:\n",
    "        if name == string:\n",
    "            break\n",
    "        else:\n",
    "            label += 1\n",
    "    return label"
   ]
  },
  {
   "cell_type": "code",
   "execution_count": 114,
   "metadata": {
    "collapsed": true
   },
   "outputs": [],
   "source": [
    "def create_circle_lower_distance_matrix(seed,params):\n",
    "    \n",
    "    # extract parameters\n",
    "    shapes = params['shapes']\n",
    "    label = get_label('circle', params)\n",
    "    dev = shapes['deviations'][label]\n",
    "    n_points = shapes['n_points']\n",
    "    \n",
    "    # seed the generator\n",
    "    np.random.seed(seed=seed)\n",
    "    \n",
    "    # construct unit circle, r=1±dev, 0<theta<2*pi\n",
    "    r = 1. - dev / 2. + dev * np.random.rand(n_points)\n",
    "    theta = 2. * np.pi * np.random.rand(n_points)\n",
    "    \n",
    "    # transform into Euclidean\n",
    "    x = r * np.cos(theta)\n",
    "    y = r * np.sin(theta)\n",
    "    \n",
    "    # calculate distances\n",
    "    lower_distance_matrix = np.zeros((n_points,n_points))\n",
    "    for i in range(n_points):\n",
    "        for j in range(n_points - i):\n",
    "            lower_distance_matrix[i,j] = np.sqrt((x[j] - x[i])**2 + (y[j] - y[i])**2)\n",
    "    lower_distance_matrix = np.flipud(lower_distance_matrix)        \n",
    "            \n",
    "    return lower_distance_matrix"
   ]
  },
  {
   "cell_type": "code",
   "execution_count": 110,
   "metadata": {
    "collapsed": true
   },
   "outputs": [],
   "source": [
    "def create_sphere_upper_distance_matrix(seed,params):\n",
    "    \n",
    "    # extract parameters\n",
    "    shapes = params['shapes']\n",
    "    label = get_label('sphere', params)\n",
    "    dev = shapes['deviations'][label]\n",
    "    n_points = shapes['n_points']\n",
    "    \n",
    "    # seed the generator\n",
    "    np.random.seed(seed=seed)\n",
    "    \n",
    "    # construct unit sphere in spherical coordinates: r=1±dev, 0<theta<pi, 0<phi<2*pi\n",
    "    r = 1. - dev / 2. + dev * np.random.rand(n_points)\n",
    "    theta = np.pi * np.random.rand(n_points)\n",
    "    phi = 2. * np.pi * np.random.rand(n_points)\n",
    "    \n",
    "    # transform into Euclidean\n",
    "    x = r * np.sin(theta) * np.cos(phi)\n",
    "    y = r * np.sin(theta) * np.sin(phi)\n",
    "    z = r * np.cos(theta)\n",
    "    \n",
    "    # calculate distances\n",
    "    upper_distance_matrix = np.zeros((n_points,n_points))\n",
    "    for i in range(n_points):\n",
    "        for j in range(n_points - i):\n",
    "            upper_distance_matrix[i,j] = np.sqrt((x[j] - x[i])**2 + (y[j] - y[i])**2 + (z[j] - [z[i]])**2)\n",
    "            \n",
    "    return upper_distance_matrix"
   ]
  },
  {
   "cell_type": "code",
   "execution_count": 111,
   "metadata": {
    "collapsed": true
   },
   "outputs": [],
   "source": [
    "def create_torus_upper_distance_matrix(seed,params):\n",
    "    \n",
    "    # extract parameters\n",
    "    shapes = params['shapes']\n",
    "    label = get_label('torus', params)\n",
    "    dev = shapes['deviations'][label]\n",
    "    n_points = shapes['n_points']\n",
    "    \n",
    "    # seed the generator\n",
    "    np.random.seed(seed=seed)\n",
    "    \n",
    "    # create noise\n",
    "    A = 1. - dev / 2. +  dev * np.random.rand(n_points)\n",
    "    \n",
    "    # construct 0<theta<2*pi, 0<phi<2*pi\n",
    "    theta = 2. * np.pi * np.random.rand(n_points)\n",
    "    phi = 2. * np.pi * np.random.rand(n_points)\n",
    "    \n",
    "    # construct torus in R4\n",
    "    x = A * np.cos(theta)\n",
    "    y = A * np.sin(theta)\n",
    "    z = A * np.cos(phi)\n",
    "    t = A * np.sin(phi)\n",
    "    \n",
    "    # calculate distances\n",
    "    upper_distance_matrix = np.zeros((n_points,n_points))\n",
    "    for i in range(n_points):\n",
    "        for j in range(n_points - i):\n",
    "            upper_distance_matrix[i,j] = np.sqrt((x[j] - x[i])**2 + (y[j] - y[i])**2\\\n",
    "                                                 + (z[j] - [z[i]])**2 + (t[j] - t[i])**2)\n",
    "            \n",
    "    return upper_distance_matrix"
   ]
  },
  {
   "cell_type": "markdown",
   "metadata": {},
   "source": [
    "## Run"
   ]
  },
  {
   "cell_type": "code",
   "execution_count": 115,
   "metadata": {
    "collapsed": false
   },
   "outputs": [
    {
     "name": "stdout",
     "output_type": "stream",
     "text": [
      "[[ 0.77385642  0.          0.         ...,  0.          0.          0.        ]\n",
      " [ 1.56993149  1.66982954  0.         ...,  0.          0.          0.        ]\n",
      " [ 0.28000277  1.74898667  0.13571713 ...,  0.          0.          0.        ]\n",
      " ..., \n",
      " [ 0.41460638  1.7106786   0.         ...,  0.13571713  0.          0.        ]\n",
      " [ 1.89457333  0.          1.7106786  ...,  1.74898667  1.66982954  0.        ]\n",
      " [ 0.          1.89457333  0.41460638 ...,  0.28000277  1.56993149\n",
      "   0.77385642]]\n",
      "Usage: ripser [options] [filename]\r\n",
      "\r\n",
      "Options:\r\n",
      "\r\n",
      "  --help           print this screen\r\n",
      "  --format         use the specified file format for the input. Options are:\r\n",
      "                     lower-distance (lower triangular distance matrix; default)\r\n",
      "                     upper-distance (upper triangular distance matrix)\r\n",
      "                     distance       (full distance matrix)\r\n",
      "                     point-cloud    (point cloud in Euclidean space)\r\n",
      "                     dipha          (distance matrix in DIPHA file format)\r\n",
      "  --dim <k>        compute persistent homology up to dimension <k>\r\n",
      "  --threshold <t>  compute Rips complexes up to diameter <t>\r\n",
      "\r\n"
     ]
    },
    {
     "ename": "RuntimeError",
     "evalue": "dictionary changed size during iteration",
     "output_type": "error",
     "traceback": [
      "\u001b[0;31m---------------------------------------------------------------------------\u001b[0m",
      "\u001b[0;31mRuntimeError\u001b[0m                              Traceback (most recent call last)",
      "\u001b[0;32m<ipython-input-115-d2a8b7b83422>\u001b[0m in \u001b[0;36m<module>\u001b[0;34m()\u001b[0m\n\u001b[1;32m     13\u001b[0m         \u001b[0mget_ipython\u001b[0m\u001b[0;34m(\u001b[0m\u001b[0;34m)\u001b[0m\u001b[0;34m.\u001b[0m\u001b[0msystem\u001b[0m\u001b[0;34m(\u001b[0m\u001b[0;34m\"cd {params['paths']['code_to_ripser']};         ./ripser --help;         ./ripser --format upper-distance --dim {params['ripser']['dim']} --threshold {params['ripser']['threshold']}         {params['paths']['ripser_to_data']}temp/distance.dat         > {params['paths']['ripser_to_data']}temp/persistence.txt\"\u001b[0m\u001b[0;34m)\u001b[0m\u001b[0;34m\u001b[0m\u001b[0m\n\u001b[1;32m     14\u001b[0m \u001b[0;34m\u001b[0m\u001b[0m\n\u001b[0;32m---> 15\u001b[0;31m         \u001b[0mpersistence\u001b[0m \u001b[0;34m=\u001b[0m \u001b[0mripser_to_dict\u001b[0m\u001b[0;34m(\u001b[0m\u001b[0mparams\u001b[0m\u001b[0;34m[\u001b[0m\u001b[0;34m'paths'\u001b[0m\u001b[0;34m]\u001b[0m\u001b[0;34m[\u001b[0m\u001b[0;34m'code_to_data'\u001b[0m\u001b[0;34m]\u001b[0m \u001b[0;34m+\u001b[0m \u001b[0;34m'temp/persistence.txt'\u001b[0m\u001b[0;34m,\u001b[0m \u001b[0mparams\u001b[0m\u001b[0;34m)\u001b[0m\u001b[0;34m.\u001b[0m\u001b[0mcopy\u001b[0m\u001b[0;34m(\u001b[0m\u001b[0;34m)\u001b[0m\u001b[0;34m\u001b[0m\u001b[0m\n\u001b[0m\u001b[1;32m     16\u001b[0m \u001b[0;34m\u001b[0m\u001b[0m\n\u001b[1;32m     17\u001b[0m         \u001b[0;32mwith\u001b[0m \u001b[0mopen\u001b[0m\u001b[0;34m(\u001b[0m\u001b[0mparams\u001b[0m\u001b[0;34m[\u001b[0m\u001b[0;34m'paths'\u001b[0m\u001b[0;34m]\u001b[0m\u001b[0;34m[\u001b[0m\u001b[0;34m'code_to_data'\u001b[0m\u001b[0;34m]\u001b[0m \u001b[0;34m+\u001b[0m \u001b[0;34m'persistences/'\u001b[0m \u001b[0;34m+\u001b[0m \u001b[0mshape\u001b[0m \u001b[0;34m+\u001b[0m \u001b[0;34m'/'\u001b[0m \u001b[0;34m+\u001b[0m \u001b[0mstr\u001b[0m\u001b[0;34m(\u001b[0m\u001b[0mseed\u001b[0m\u001b[0;34m)\u001b[0m \u001b[0;34m+\u001b[0m \u001b[0;34m'.pickle'\u001b[0m\u001b[0;34m,\u001b[0m \u001b[0;34m'wb'\u001b[0m\u001b[0;34m)\u001b[0m \u001b[0;32mas\u001b[0m \u001b[0mf\u001b[0m\u001b[0;34m:\u001b[0m\u001b[0;34m\u001b[0m\u001b[0m\n",
      "\u001b[0;32m/Users/henrikaslund/OneDrive - epfl.ch/Topology/topology_immersion_Henrik/scripts/ripser_to_dict.py\u001b[0m in \u001b[0;36mripser_to_dict\u001b[0;34m(file, params)\u001b[0m\n\u001b[1;32m     39\u001b[0m     \u001b[0;31m# post processing\u001b[0m\u001b[0;34m\u001b[0m\u001b[0;34m\u001b[0m\u001b[0m\n\u001b[1;32m     40\u001b[0m     \u001b[0mtemp\u001b[0m \u001b[0;34m=\u001b[0m \u001b[0;34m[\u001b[0m\u001b[0;34m]\u001b[0m\u001b[0;34m\u001b[0m\u001b[0m\n\u001b[0;32m---> 41\u001b[0;31m     \u001b[0;32mfor\u001b[0m \u001b[0mk\u001b[0m\u001b[0;34m,\u001b[0m\u001b[0mv\u001b[0m \u001b[0;32min\u001b[0m \u001b[0mdata\u001b[0m\u001b[0;34m.\u001b[0m\u001b[0mitems\u001b[0m\u001b[0;34m(\u001b[0m\u001b[0;34m)\u001b[0m\u001b[0;34m:\u001b[0m\u001b[0;34m\u001b[0m\u001b[0m\n\u001b[0m\u001b[1;32m     42\u001b[0m         \u001b[0;32mif\u001b[0m \u001b[0mv\u001b[0m \u001b[0;34m==\u001b[0m \u001b[0;34m[\u001b[0m\u001b[0;34m]\u001b[0m\u001b[0;34m:\u001b[0m\u001b[0;34m\u001b[0m\u001b[0m\n\u001b[1;32m     43\u001b[0m             \u001b[0mtemp\u001b[0m\u001b[0;34m.\u001b[0m\u001b[0mappend\u001b[0m\u001b[0;34m(\u001b[0m\u001b[0mk\u001b[0m\u001b[0;34m)\u001b[0m\u001b[0;34m\u001b[0m\u001b[0m\n",
      "\u001b[0;31mRuntimeError\u001b[0m: dictionary changed size during iteration"
     ]
    }
   ],
   "source": [
    "for shape in params['shapes']['names']:\n",
    "    for seed in params['shapes']['all_seeds']:\n",
    "        if shape == 'circle':\n",
    "            distance_matrix = create_circle_lower_distance_matrix(seed,params)\n",
    "        elif shape == 'sphere':\n",
    "            distance_matrix = create_sphere_upper_distance_matrix(seed,params)\n",
    "        elif shape == 'torus':\n",
    "            distance_matrix = create_torus_upper_distance_matrix(seed,params)\n",
    "        np.savetxt(params['paths']['code_to_data'] + 'temp/distance.dat', distance_matrix, delimiter=',')\n",
    "        \n",
    "        print(distance_matrix)\n",
    "        \n",
    "        !cd {params['paths']['code_to_ripser']}; \\\n",
    "        ./ripser --help; \\\n",
    "        ./ripser --format upper-distance --dim {params['ripser']['dim']} --threshold {params['ripser']['threshold']} \\\n",
    "        {params['paths']['ripser_to_data']}temp/distance.dat \\\n",
    "        > {params['paths']['ripser_to_data']}temp/persistence.txt\n",
    "\n",
    "        persistence = ripser_to_dict(params['paths']['code_to_data'] + 'temp/persistence.txt', params).copy()\n",
    "\n",
    "        with open(params['paths']['code_to_data'] + 'persistences/' + shape + '/' + str(seed) + '.pickle', 'wb') as f:\n",
    "            pickle.dump(persistence, f)"
   ]
  },
  {
   "cell_type": "code",
   "execution_count": null,
   "metadata": {
    "collapsed": true
   },
   "outputs": [],
   "source": []
  }
 ],
 "metadata": {
  "kernelspec": {
   "display_name": "Python [Root]",
   "language": "python",
   "name": "Python [Root]"
  },
  "language_info": {
   "codemirror_mode": {
    "name": "ipython",
    "version": 3
   },
   "file_extension": ".py",
   "mimetype": "text/x-python",
   "name": "python",
   "nbconvert_exporter": "python",
   "pygments_lexer": "ipython3",
   "version": "3.5.2"
  }
 },
 "nbformat": 4,
 "nbformat_minor": 0
}
