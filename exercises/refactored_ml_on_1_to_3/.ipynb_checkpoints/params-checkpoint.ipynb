{
 "cells": [
  {
   "cell_type": "markdown",
   "metadata": {},
   "source": [
    "# Parameters"
   ]
  },
  {
   "cell_type": "code",
   "execution_count": 9,
   "metadata": {
    "collapsed": true
   },
   "outputs": [],
   "source": [
    "import numpy as np\n",
    "import pickle\n",
    "import scipy.io as sio"
   ]
  },
  {
   "cell_type": "code",
   "execution_count": 16,
   "metadata": {
    "collapsed": true
   },
   "outputs": [],
   "source": [
    "params = {'code_to_data': '../../../heavy_files/exercises/refactored_ml_on_1_to_3/',\\\n",
    "         'data_to_code': '../../../topology_immersion_Henrik/exercises/refactored_ml_on_1_to_3/'}\n",
    "\n",
    "shapes = {'names': ['circle', 'sphere', 'torus']}\n",
    "\n",
    "ripser = {'dim': 2,\\\n",
    "         'max_persistence': 2.5}\n",
    "\n",
    "matconvnet = {'n_epochs': 20}"
   ]
  },
  {
   "cell_type": "code",
   "execution_count": 6,
   "metadata": {
    "collapsed": false
   },
   "outputs": [],
   "source": [
    "params['shapes'] = shapes\n",
    "params['ripser'] = ripser\n",
    "params['matconvnet'] = matconvnet"
   ]
  },
  {
   "cell_type": "code",
   "execution_count": 17,
   "metadata": {
    "collapsed": false
   },
   "outputs": [],
   "source": [
    "# export\n",
    "with open(params['code_to_data'] + 'params.pickle', 'wb') as f:\n",
    "    pickle.dump(params, f)\n",
    "sio.savemat(params['code_to_data'] + 'params.mat',params)"
   ]
  },
  {
   "cell_type": "code",
   "execution_count": null,
   "metadata": {
    "collapsed": true
   },
   "outputs": [],
   "source": []
  }
 ],
 "metadata": {
  "anaconda-cloud": {},
  "kernelspec": {
   "display_name": "Python [Root]",
   "language": "python",
   "name": "Python [Root]"
  },
  "language_info": {
   "codemirror_mode": {
    "name": "ipython",
    "version": 3
   },
   "file_extension": ".py",
   "mimetype": "text/x-python",
   "name": "python",
   "nbconvert_exporter": "python",
   "pygments_lexer": "ipython3",
   "version": "3.5.2"
  }
 },
 "nbformat": 4,
 "nbformat_minor": 0
}
