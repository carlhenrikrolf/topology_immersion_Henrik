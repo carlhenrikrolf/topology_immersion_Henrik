{
 "cells": [
  {
   "cell_type": "code",
   "execution_count": 8,
   "metadata": {
    "collapsed": true
   },
   "outputs": [],
   "source": [
    "import matplotlib.pyplot as plt\n",
    "%matplotlib inline\n",
    "\n",
    "import numpy as np\n",
    "\n",
    "import pickle as pickle\n",
    "\n",
    "import sys\n",
    "path = '../../scripts/'\n",
    "sys.path.insert(0,path)\n",
    "from ripser_to_dict import *\n",
    "#from plot_persistence import *"
   ]
  },
  {
   "cell_type": "code",
   "execution_count": 18,
   "metadata": {
    "collapsed": true
   },
   "outputs": [],
   "source": [
    "with open('params.pickle','rb') as f:\n",
    "    params = pickle.load(f)"
   ]
  },
  {
   "cell_type": "markdown",
   "metadata": {},
   "source": [
    "## Functions"
   ]
  },
  {
   "cell_type": "code",
   "execution_count": 74,
   "metadata": {
    "collapsed": true
   },
   "outputs": [],
   "source": [
    "def rectangularize_triangle(in_im,im_size,bmin,dmax):\n",
    "    \n",
    "    n_points = in_im.shape[0]\n",
    "    kmax = 2 * (im_size[0] - 1)\n",
    "    lmax = 2 * im_size[1] - 1\n",
    "    b = in_im[:,0]\n",
    "    d = in_im[:,1]\n",
    "    \n",
    "    k = kmax / (np.pi / 2.) * np.arctan((dmax - d) / (b - bmin))\n",
    "    l = (lmax + 1) / (dmax - bmin) * (d - b)\n",
    "    out_im = [k,l] #????\n",
    "    \n",
    "    return out_im\n",
    "    "
   ]
  },
  {
   "cell_type": "code",
   "execution_count": 11,
   "metadata": {
    "collapsed": true
   },
   "outputs": [],
   "source": [
    "def closest_pixel(PD,im_size,max_persistence):\n",
    "    \n",
    "    \"\"\"Moves points to nearest intersection in a grid. Input is a collection of (b,d)-points.\"\"\"\n",
    "    \n",
    "    width = im_size[0]\n",
    "    height = im_size[1]\n",
    "    \n",
    "    out_im = np.zeros((height,width))\n",
    "    rx = max_persistence/(float)(width - 1)\n",
    "    ry = max_persistence/(float)(height - 1)\n",
    "    n_points = PD.shape[0]\n",
    "    \n",
    "    for y in range(height):\n",
    "        for x in range(width):\n",
    "            for n in range(n_points):\n",
    "                its_close_to_x = -rx/2. < PD[n,0] - rx*x < rx/2.\n",
    "                its_close_to_y = -ry/2. < PD[n,1] - ry*y < ry/2.\n",
    "                if its_close_to_x and its_close_to_y:\n",
    "                    out_im[y,x] += 1\n",
    "                    \n",
    "    out_im = np.flipud(out_im)\n",
    "    \n",
    "    return out_im"
   ]
  },
  {
   "cell_type": "code",
   "execution_count": 15,
   "metadata": {
    "collapsed": false
   },
   "outputs": [],
   "source": [
    "def create_cifar_library(params,all_bmins,all_bmax):\n",
    "    \n",
    "    \"\"\"Note, this time it is for the rectangularized triangles\"\"\"\n",
    "    \n",
    "    im_size = [32, 32]\n",
    "    channels = params['architecture']['channels']\n",
    "    \n",
    "        for shape in params['shapes']['names']:\n",
    "            for seed in params['shapes']['all_seeds']:\n",
    "                with open(params['paths']['code_to_data'] + 'persistences/'\\\n",
    "                          + shape + '/' + str(seed) + '.txt', \\\n",
    "                          'rb') as f:\n",
    "                    temp = pickle.load(f)\n",
    "                for channel in channels:\n",
    "                    PD = temp[channel].copy()\n",
    "                    PD = rectangularize_triangle(PD,im_size,all_bmins[channel],all_dmax[channel])\n",
    "                    out_im = closest_pixel(PD,im_size,params['ripser']['max_persistence'])\n",
    "                    np.savetxt(params['paths']['code_to_data'] + 'pixelations/cifar/'\\\n",
    "                           + shape + '/' + str(seed) + '-' + str(channel) + '.dat',\\\n",
    "                           out_im, delimiter=',')\n",
    "                del temp"
   ]
  },
  {
   "cell_type": "markdown",
   "metadata": {},
   "source": [
    "## Run"
   ]
  },
  {
   "cell_type": "code",
   "execution_count": 67,
   "metadata": {
    "collapsed": false
   },
   "outputs": [
    {
     "name": "stdout",
     "output_type": "stream",
     "text": [
      "[ 2.5       0.468765  0.953925]\n",
      "[ 0.  0.  0.]\n"
     ]
    }
   ],
   "source": [
    "# find bmin and dmax\n",
    "all_bmins = np.zeros(params['architecture']['n_channels']) + np.inf\n",
    "all_dmax = np.zeros(params['architecture']['n_channels'])\n",
    "for shape in ['circle','sphere']:#params['shapes']['names']:\n",
    "    for seed in [0,2]: #params['shapes']['all_seeds']:\n",
    "        with open(params['paths']['code_to_data'] + 'persistences/'\\\n",
    "              + shape + '/' + str(seed) + '.txt', \\\n",
    "              'rb') as f:\n",
    "            temp = pickle.load(f)\n",
    "        for channel in params['architecture']['channels']:\n",
    "            temp_bmin = min(temp[channel][:,0].copy())\n",
    "            if temp_bmin < all_bmins[channel]:\n",
    "                all_bmins[channel] = temp_bmin\n",
    "            temp_dmax = max(temp[channel][:,1].copy())\n",
    "            if temp_dmax > all_dmax[channel]:\n",
    "                all_dmax[channel] = temp_dmax\n",
    "        del temp"
   ]
  },
  {
   "cell_type": "code",
   "execution_count": 97,
   "metadata": {
    "collapsed": false
   },
   "outputs": [
    {
     "name": "stderr",
     "output_type": "stream",
     "text": [
      "/Users/henrikaslund/anaconda/lib/python3.5/site-packages/ipykernel/__main__.py:9: RuntimeWarning: divide by zero encountered in true_divide\n"
     ]
    }
   ],
   "source": [
    "with open(params['paths']['code_to_data'] + 'persistences/'\\\n",
    "                    + 'sphere' + '/' + '1' + '.txt', \\\n",
    "                    'rb') as f:\n",
    "                    temp = pickle.load(f)\n",
    "PD = temp[2].copy()\n",
    "PD = rectangularize_triangle(PD,[32,32],all_bmins[channel],all_dmax[channel])"
   ]
  },
  {
   "cell_type": "code",
   "execution_count": 98,
   "metadata": {
    "collapsed": false
   },
   "outputs": [
    {
     "data": {
      "text/plain": [
       "[<matplotlib.lines.Line2D at 0x1111b2eb8>]"
      ]
     },
     "execution_count": 98,
     "metadata": {},
     "output_type": "execute_result"
    },
    {
     "data": {
      "image/png": "[encoded data removed]",
      "text/plain": [
       "<matplotlib.figure.Figure at 0x110cea358>"
      ]
     },
     "metadata": {},
     "output_type": "display_data"
    }
   ],
   "source": [
    "plt.plot(PD[0],PD[1],'x')"
   ]
  },
  {
   "cell_type": "code",
   "execution_count": 80,
   "metadata": {
    "collapsed": false
   },
   "outputs": [
    {
     "name": "stdout",
     "output_type": "stream",
     "text": [
      "[  7.24934141   6.28329481  11.13204497   1.54175643   4.0056147\n",
      "   5.6645795    5.93439358   2.40986996  31.45001966  24.66280263\n",
      "  22.04362817  12.47702283  10.77807165  10.9689462   14.6234054\n",
      "  12.01187934  12.01187934   6.1059056   11.36854155   9.02122075\n",
      "  14.66379432   8.39794323   5.70445182   2.66843955   3.06847771\n",
      "   3.06847771   7.97996488   7.97996488   6.37711518   6.56883508\n",
      "  13.64561784   7.90354797   6.03716393   5.23664481]\n"
     ]
    }
   ],
   "source": [
    "print(PD[1])"
   ]
  },
  {
   "cell_type": "code",
   "execution_count": null,
   "metadata": {
    "collapsed": true
   },
   "outputs": [],
   "source": []
  }
 ],
 "metadata": {
  "kernelspec": {
   "display_name": "Python [Root]",
   "language": "python",
   "name": "Python [Root]"
  },
  "language_info": {
   "codemirror_mode": {
    "name": "ipython",
    "version": 3
   },
   "file_extension": ".py",
   "mimetype": "text/x-python",
   "name": "python",
   "nbconvert_exporter": "python",
   "pygments_lexer": "ipython3",
   "version": "3.5.2"
  }
 },
 "nbformat": 4,
 "nbformat_minor": 0
}
