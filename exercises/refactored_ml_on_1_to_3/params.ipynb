{
 "cells": [
  {
   "cell_type": "markdown",
   "metadata": {},
   "source": [
    "# Parameters"
   ]
  },
  {
   "cell_type": "code",
   "execution_count": 1,
   "metadata": {
    "collapsed": true
   },
   "outputs": [],
   "source": [
    "import numpy as np\n",
    "import pickle\n",
    "import scipy.io as sio"
   ]
  },
  {
   "cell_type": "code",
   "execution_count": 2,
   "metadata": {
    "collapsed": false
   },
   "outputs": [],
   "source": [
    "params = {}\n",
    "\n",
    "pixelation = {'antidiagonal': 'keep'}\n",
    "\n",
    "shapes = {'all_seeds': range(0,500),\\\n",
    "          'deviations': [0.2, 0.2, 0.1, 0.15],\\\n",
    "          'names': ['circle', 'sphere', 'torus', 'mickey_mouse'],\\\n",
    "          'min_n_points': 100,\\\n",
    "          'max_n_points': 400}\n",
    "\n",
    "ripser = {'dim': 2,\\\n",
    "         'max_persistence': 2.5,\\\n",
    "         'threshold': 10}\n",
    "\n",
    "'''architecture = {'name': 'mnist',\\\n",
    "               'channel': 1}'''\n",
    "\n",
    "architecture = {'name': 'cifar',\\\n",
    "               'channels': [0,1,2]}\n",
    "\n",
    "train = {'plotDiagnostics': True}\n",
    "\n",
    "matconvnet = {'n_epochs': 20,\\\n",
    "             'train_ratio': 0.7,\\\n",
    "             'val_ratio': 0.15,\\\n",
    "             'train': train}\n",
    "\n",
    "paths = {'code_to_data': '../../../heavy_files/exercises/refactored_ml_on_1_to_3/',\\\n",
    "         'data_to_code': '../../../topology_immersion_Henrik/exercises/refactored_ml_on_1_to_3/',\\\n",
    "         'code_to_ripser': '../../../ripser/',\n",
    "         'ripser_to_data': '../heavy_files/exercises/refactored_ml_on_1_to_3/'}"
   ]
  },
  {
   "cell_type": "code",
   "execution_count": 3,
   "metadata": {
    "collapsed": false
   },
   "outputs": [],
   "source": [
    "matconvnet['n_samples'] = len(shapes['all_seeds']) * len(shapes['names'])\n",
    "matconvnet['test_ratio'] = 1. - matconvnet['train_ratio'] - matconvnet['val_ratio']\n",
    "shapes['n_shapes'] = len(shapes['names'])\n",
    "if 'channels' in architecture:\n",
    "    architecture['n_channels'] = len(architecture['channels'])\n",
    "\n",
    "params['shapes'] = shapes\n",
    "params['ripser'] = ripser\n",
    "params['matconvnet'] = matconvnet\n",
    "params['paths'] = paths\n",
    "params['architecture'] = architecture\n",
    "params['pixelation'] = pixelation"
   ]
  },
  {
   "cell_type": "code",
   "execution_count": 4,
   "metadata": {
    "collapsed": false
   },
   "outputs": [
    {
     "name": "stdout",
     "output_type": "stream",
     "text": [
      "{'matconvnet': {'val_ratio': 0.15, 'test_ratio': 0.15000000000000005, 'train_ratio': 0.7, 'n_samples': 2000, 'train': {'plotDiagnostics': True}, 'n_epochs': 20}, 'pixelation': {'antidiagonal': 'keep'}, 'ripser': {'threshold': 10, 'max_persistence': 2.5, 'dim': 2}, 'paths': {'code_to_data': '../../../heavy_files/exercises/refactored_ml_on_1_to_3/', 'data_to_code': '../../../topology_immersion_Henrik/exercises/refactored_ml_on_1_to_3/', 'code_to_ripser': '../../../ripser/', 'ripser_to_data': '../heavy_files/exercises/refactored_ml_on_1_to_3/'}, 'architecture': {'channels': [0, 1, 2], 'name': 'cifar', 'n_channels': 3}, 'shapes': {'all_seeds': range(0, 500), 'names': ['circle', 'sphere', 'torus', 'mickey_mouse'], 'deviations': [0.2, 0.2, 0.1, 0.15], 'n_shapes': 4, 'min_n_points': 100, 'max_n_points': 400}}\n"
     ]
    }
   ],
   "source": [
    "# export\n",
    "print(params)\n",
    "with open('params.pickle', 'wb') as f:\n",
    "    pickle.dump(params, f)\n",
    "sio.savemat('params.mat',params)"
   ]
  }
 ],
 "metadata": {
  "anaconda-cloud": {},
  "kernelspec": {
   "display_name": "Python [Root]",
   "language": "python",
   "name": "Python [Root]"
  },
  "language_info": {
   "codemirror_mode": {
    "name": "ipython",
    "version": 3
   },
   "file_extension": ".py",
   "mimetype": "text/x-python",
   "name": "python",
   "nbconvert_exporter": "python",
   "pygments_lexer": "ipython3",
   "version": "3.5.2"
  }
 },
 "nbformat": 4,
 "nbformat_minor": 0
}
