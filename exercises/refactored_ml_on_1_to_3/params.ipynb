{
 "cells": [
  {
   "cell_type": "markdown",
   "metadata": {},
   "source": [
    "# Parameters"
   ]
  },
  {
   "cell_type": "code",
   "execution_count": 40,
   "metadata": {
    "collapsed": true
   },
   "outputs": [],
   "source": [
    "import numpy as np\n",
    "import pickle\n",
    "import scipy.io as sio"
   ]
  },
  {
   "cell_type": "code",
   "execution_count": 48,
   "metadata": {
    "collapsed": false
   },
   "outputs": [],
   "source": [
    "params = {}\n",
    "\n",
    "shapes = {'all_seeds': range(0,1),\\\n",
    "          'deviations': [0.1, 0.1, 0.1],\\\n",
    "          'names': ['circle', 'sphere', 'torus'],\\\n",
    "          'n_points': 200}\n",
    "\n",
    "ripser = {'dim': 2,\\\n",
    "         'max_persistence': 2.5,\\\n",
    "         'threshold': 10}\n",
    "\n",
    "architecture = {'name': 'mnist',\\\n",
    "               'channel': 1}\n",
    "\n",
    "matconvnet = {'n_epochs': 20,\\\n",
    "             'train_ratio': 0.7,\\\n",
    "             'val_ratio': 0.15}\n",
    "\n",
    "paths = {'code_to_data': '../../../heavy_files/exercises/refactored_ml_on_1_to_3/',\\\n",
    "         'data_to_code': '../../../topology_immersion_Henrik/exercises/refactored_ml_on_1_to_3/',\\\n",
    "         'code_to_ripser': '../../../ripser/',\n",
    "         'ripser_to_data': '../heavy_files/exercises/refactored_ml_on_1_to_3/'}"
   ]
  },
  {
   "cell_type": "code",
   "execution_count": 49,
   "metadata": {
    "collapsed": false
   },
   "outputs": [],
   "source": [
    "matconvnet['n_samples'] = len(shapes['all_seeds']) * len(shapes['names'])\n",
    "matconvnet['test_ratio'] = 1. - matconvnet['train_ratio'] - matconvnet['val_ratio']\n",
    "\n",
    "params['shapes'] = shapes\n",
    "params['ripser'] = ripser\n",
    "params['matconvnet'] = matconvnet\n",
    "params['paths'] = paths\n",
    "params['architecture'] = architecture"
   ]
  },
  {
   "cell_type": "code",
   "execution_count": 50,
   "metadata": {
    "collapsed": false
   },
   "outputs": [
    {
     "name": "stdout",
     "output_type": "stream",
     "text": [
      "{'ripser': {'dim': 2, 'max_persistence': 2.5, 'threshold': 10}, 'architecture': {'name': 'mnist', 'channel': 1}, 'shapes': {'n_points': 200, 'names': ['circle', 'sphere', 'torus'], 'all_seeds': range(0, 1), 'deviations': [0.1, 0.1, 0.1]}, 'paths': {'ripser_to_data': '../heavy_files/exercises/refactored_ml_on_1_to_3/', 'code_to_ripser': '../../../ripser/', 'data_to_code': '../../../topology_immersion_Henrik/exercises/refactored_ml_on_1_to_3/', 'code_to_data': '../../../heavy_files/exercises/refactored_ml_on_1_to_3/'}, 'matconvnet': {'val_ratio': 0.15, 'n_epochs': 20, 'n_samples': 3, 'train_ratio': 0.7, 'test_ratio': 0.15000000000000005}}\n"
     ]
    }
   ],
   "source": [
    "# export\n",
    "print(params)\n",
    "with open('params.pickle', 'wb') as f:\n",
    "    pickle.dump(params, f)\n",
    "sio.savemat('params.mat',params)"
   ]
  },
  {
   "cell_type": "code",
   "execution_count": null,
   "metadata": {
    "collapsed": true
   },
   "outputs": [],
   "source": []
  }
 ],
 "metadata": {
  "anaconda-cloud": {},
  "kernelspec": {
   "display_name": "Python [Root]",
   "language": "python",
   "name": "Python [Root]"
  },
  "language_info": {
   "codemirror_mode": {
    "name": "ipython",
    "version": 3
   },
   "file_extension": ".py",
   "mimetype": "text/x-python",
   "name": "python",
   "nbconvert_exporter": "python",
   "pygments_lexer": "ipython3",
   "version": "3.5.2"
  }
 },
 "nbformat": 4,
 "nbformat_minor": 0
}
