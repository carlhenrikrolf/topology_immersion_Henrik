{
 "cells": [
  {
   "cell_type": "code",
   "execution_count": 3,
   "metadata": {
    "collapsed": true
   },
   "outputs": [],
   "source": [
    "import matplotlib.pyplot as plt\n",
    "%matplotlib inline\n",
    "\n",
    "import numpy as np\n",
    "\n",
    "import pickle as pickle\n",
    "\n",
    "import sys\n",
    "path = '../../scripts/'\n",
    "sys.path.insert(0,path)\n",
    "from ripser_to_dict import *\n",
    "#from plot_persistence import *"
   ]
  },
  {
   "cell_type": "code",
   "execution_count": 13,
   "metadata": {
    "collapsed": true
   },
   "outputs": [],
   "source": [
    "with open('params.pickle','rb') as f:\n",
    "    params = pickle.load(f)"
   ]
  },
  {
   "cell_type": "markdown",
   "metadata": {},
   "source": [
    "## Functions"
   ]
  },
  {
   "cell_type": "code",
   "execution_count": 20,
   "metadata": {
    "collapsed": true
   },
   "outputs": [],
   "source": [
    "def closest_pixel(PD,im_size,max_persistence):\n",
    "    \n",
    "    \"\"\"Moves points to nearest intersection in a grid. Input is a collection of (b,d)-points.\"\"\"\n",
    "    \n",
    "    width = im_size[0]\n",
    "    height = im_size[1]\n",
    "    \n",
    "    out_im = np.zeros((height,width))\n",
    "    rx = max_persistence/(float)(width - 1)\n",
    "    ry = max_persistence/(float)(height - 1)\n",
    "    n_points = PD.shape[0]\n",
    "    \n",
    "    for y in range(height):\n",
    "        for x in range(width):\n",
    "            for n in range(n_points):\n",
    "                its_close_to_x = -rx/2. < PD[n,0] - rx*x < rx/2.\n",
    "                its_close_to_y = -ry/2. < PD[n,1] - ry*y < ry/2.\n",
    "                if its_close_to_x and its_close_to_y:\n",
    "                    out_im[y,x] += 1\n",
    "                    \n",
    "    out_im = np.flipud(out_im)\n",
    "    \n",
    "    return out_im"
   ]
  },
  {
   "cell_type": "code",
   "execution_count": 21,
   "metadata": {
    "collapsed": false
   },
   "outputs": [],
   "source": [
    "def create_mnist_library(params):\n",
    "    \n",
    "    im_size = [28, 28]\n",
    "    channel = params['architecture']['channel']\n",
    "    \n",
    "    for shape in params['shapes']['names']:\n",
    "        for seed in params['shapes']['all_seeds']:\n",
    "            with open(params['paths']['code_to_data'] + 'persistences/'\\\n",
    "                      + shape + '/' + str(seed) + '.txt', \\\n",
    "                      'rb') as f:\n",
    "                temp = pickle.load(f)\n",
    "            PD = temp[channel].copy()\n",
    "            del temp\n",
    "            out_im = closest_pixel(PD,im_size,params['ripser']['max_persistence'])\n",
    "            np.savetxt(params['paths']['code_to_data'] + 'pixelations/mnist/'\\\n",
    "                       + shape + '/' + str(seed) + '-' + str(channel) + '.dat',\\\n",
    "                       out_im, delimiter=',')"
   ]
  },
  {
   "cell_type": "markdown",
   "metadata": {},
   "source": [
    "## Run"
   ]
  },
  {
   "cell_type": "code",
   "execution_count": 23,
   "metadata": {
    "collapsed": false
   },
   "outputs": [
    {
     "name": "stdout",
     "output_type": "stream",
     "text": [
      "mnist\n"
     ]
    }
   ],
   "source": [
    "architecture = params['architecture']['name']\n",
    "print(architecture)\n",
    "if architecture == 'mnist':\n",
    "    create_mnist_library(params)"
   ]
  },
  {
   "cell_type": "code",
   "execution_count": null,
   "metadata": {
    "collapsed": true
   },
   "outputs": [],
   "source": []
  }
 ],
 "metadata": {
  "kernelspec": {
   "display_name": "Python [Root]",
   "language": "python",
   "name": "Python [Root]"
  },
  "language_info": {
   "codemirror_mode": {
    "name": "ipython",
    "version": 3
   },
   "file_extension": ".py",
   "mimetype": "text/x-python",
   "name": "python",
   "nbconvert_exporter": "python",
   "pygments_lexer": "ipython3",
   "version": "3.5.2"
  }
 },
 "nbformat": 4,
 "nbformat_minor": 0
}
