{
 "cells": [
  {
   "cell_type": "code",
   "execution_count": 1,
   "metadata": {
    "collapsed": true
   },
   "outputs": [],
   "source": [
    "import matplotlib.pyplot as plt\n",
    "%matplotlib inline\n",
    "\n",
    "import numpy as np\n",
    "\n",
    "import pickle as pickle\n",
    "\n",
    "import sys\n",
    "path = '../../scripts/'\n",
    "sys.path.insert(0,path)\n",
    "from RipserToDict import ripser_to_dict\n",
    "from PlotPersistence import plot_persistence"
   ]
  },
  {
   "cell_type": "code",
   "execution_count": 4,
   "metadata": {
    "collapsed": true
   },
   "outputs": [],
   "source": [
    "with open('params.pickle', 'rb') as f:\n",
    "    params = pickle.load(f)"
   ]
  },
  {
   "cell_type": "markdown",
   "metadata": {},
   "source": [
    "## Functions"
   ]
  },
  {
   "cell_type": "code",
   "execution_count": 9,
   "metadata": {
    "collapsed": true
   },
   "outputs": [],
   "source": [
    "def get_label(string,params):\n",
    "    shapes = params['shapes']\n",
    "    label = 0\n",
    "    for name in shapes['names']:\n",
    "        if name == string:\n",
    "            break\n",
    "        else:\n",
    "            label += 1\n",
    "    return label"
   ]
  },
  {
   "cell_type": "code",
   "execution_count": 21,
   "metadata": {
    "collapsed": true
   },
   "outputs": [],
   "source": [
    "def create_circle_upper_distance_matrix(params):\n",
    "    \n",
    "    # extract parameters\n",
    "    shapes = params['shapes']\n",
    "    label = get_label('circle', params)\n",
    "    dev = shapes['deviations'][label]\n",
    "    n_points = shapes['n_points']\n",
    "    seed = shapes['seed']\n",
    "    \n",
    "    # seed the generator\n",
    "    np.random.seed(seed=seed)\n",
    "    \n",
    "    # construct unit circle, r=1±dev, 0<theta<2*pi\n",
    "    r = 1. - dev / 2. + dev * np.random.rand(n_points)\n",
    "    theta = 2. * np.pi * np.random.rand(n_points)\n",
    "    \n",
    "    # transform into Euclidean\n",
    "    x = r * np.cos(theta)\n",
    "    y = r * np.sin(theta)\n",
    "    \n",
    "    # calculate distances\n",
    "    upper_distance_matrix = np.zeros((n_points,n_points))\n",
    "    for i in range(n_points):\n",
    "        for j in range(n_points - i):\n",
    "            upper_distance_matrix[i,j] = np.sqrt((x[j] - x[i])**2 + (y[j] - y[i])**2)\n",
    "            \n",
    "    return upper_distance_matrix"
   ]
  },
  {
   "cell_type": "code",
   "execution_count": 27,
   "metadata": {
    "collapsed": true
   },
   "outputs": [],
   "source": [
    "def create_sphere_upper_distance_matrix(params):\n",
    "    \n",
    "    # extract parameters\n",
    "    shapes = params['shapes']\n",
    "    label = get_label('sphere', params)\n",
    "    dev = shapes['deviations'][label]\n",
    "    n_points = shapes['n_points']\n",
    "    seed = shapes['seed']\n",
    "    \n",
    "    # seed the generator\n",
    "    np.random.seed(seed=seed)\n",
    "    \n",
    "    # construct unit sphere in spherical coordinates: r=1±dev, 0<theta<pi, 0<phi<2*pi\n",
    "    r = 1. - dev / 2. + dev * np.random.rand(n_points)\n",
    "    theta = np.pi * np.random.rand(n_points)\n",
    "    phi = 2. * np.pi * np.random.rand(n_points)\n",
    "    \n",
    "    # transform into Euclidean\n",
    "    x = r * np.sin(theta) * np.cos(phi)\n",
    "    y = r * np.sin(theta) * np.sin(phi)\n",
    "    z = r * np.cos(theta)\n",
    "    \n",
    "    # calculate distances\n",
    "    upper_distance_matrix = np.zeros((n_points,n_points))\n",
    "    for i in range(n_points):\n",
    "        for j in range(n_points - i):\n",
    "            upper_distance_matrix[i,j] = np.sqrt((x[j] - x[i])**2 + (y[j] - y[i])**2 + (z[j] - [z[i]])**2)\n",
    "            \n",
    "    return upper_distance_matrix"
   ]
  },
  {
   "cell_type": "code",
   "execution_count": 29,
   "metadata": {
    "collapsed": true
   },
   "outputs": [],
   "source": [
    "def create_torus_upper_distance_matrix(params):\n",
    "    \n",
    "    # extract parameters\n",
    "    shapes = params['shapes']\n",
    "    label = get_label('torus', params)\n",
    "    dev = shapes['deviations'][label]\n",
    "    n_points = shapes['n_points']\n",
    "    seed = shapes['seed']\n",
    "    \n",
    "    # seed the generator\n",
    "    np.random.seed(seed=seed)\n",
    "    \n",
    "    # create noise\n",
    "    A = 1. - dev / 2. +  dev * np.random.rand(n_points)\n",
    "    \n",
    "    # construct 0<theta<2*pi, 0<phi<2*pi\n",
    "    theta = 2. * np.pi * np.random.rand(n_points)\n",
    "    phi = 2. * np.pi * np.random.rand(n_points)\n",
    "    \n",
    "    # construct torus in R4\n",
    "    x = A * np.cos(theta)\n",
    "    y = A * np.sin(theta)\n",
    "    z = A * np.cos(phi)\n",
    "    t = A * np.sin(phi)\n",
    "    \n",
    "    # calculate distances\n",
    "    upper_distance_matrix = np.zeros((n_points,n_points))\n",
    "    for i in range(n_points):\n",
    "        for j in range(n_points - i):\n",
    "            upper_distance_matrix[i,j] = np.sqrt((x[j] - x[i])**2 + (y[j] - y[i])**2\\\n",
    "                                                 + (z[j] - [z[i]])**2 + (t[j] - t[i])**2)\n",
    "            \n",
    "    return upper_distance_matrix"
   ]
  },
  {
   "cell_type": "markdown",
   "metadata": {},
   "source": [
    "## Run"
   ]
  },
  {
   "cell_type": "code",
   "execution_count": null,
   "metadata": {
    "collapsed": true
   },
   "outputs": [],
   "source": [
    "for shape in params['shapes']['names']:\n",
    "    for seed in params['all_seeds']:\n",
    "        if shape == 'circle':\n",
    "            distance_matrix = create_circle_distance_matrix(params)\n",
    "        elif shape == 'sphere':\n",
    "            distance_matrix = create_sphere_upper_distance_matrix(params)\n",
    "        elif shape == 'torus':\n",
    "            distance_matrix = create_torus_upper_distance_matrix(params)\n",
    "        np.savetxt(params['paths']['code_to_data'] + 'temp/distance.dat', distance_matrix, delimiter=',')\n",
    "\n",
    "        !cd {params['paths']['code_to_ripser']}; \\\n",
    "        ./ripser --format upper-distance --dim {params['ripser']['dim']} --threshold {params['ripser']['threshold']} \\\n",
    "        {params['paths']['ripser_to_data']}temp/distance.dat \\\n",
    "        > {params['paths']['ripser_to_data']}temp/persistence.txt\n",
    "\n",
    "        persistence = ripser_to_dict(params['paths']['code_to_data'] + 'temp/persistence.txt', params).copy()\n",
    "\n",
    "        with open(params['paths']['code_to_data'] + 'persistences/' + shape + '/' + str(seed) + '.txt', \"wb\") as f:\n",
    "            pickle.dump(persistence, f)"
   ]
  },
  {
   "cell_type": "code",
   "execution_count": 30,
   "metadata": {
    "collapsed": false
   },
   "outputs": [
    {
     "name": "stdout",
     "output_type": "stream",
     "text": [
      "200\n",
      "[[ 0.          2.12409154  0.49185659 ...,  2.2242119   2.01114308\n",
      "   2.16622608]\n",
      " [ 2.12409154  0.          2.20428777 ...,  2.25224552  1.34116528  0.        ]\n",
      " [ 0.49185659  2.20428777  0.         ...,  1.95025223  0.          0.        ]\n",
      " ..., \n",
      " [ 2.2242119   2.25224552  1.95025223 ...,  0.          0.          0.        ]\n",
      " [ 2.01114308  1.34116528  0.         ...,  0.          0.          0.        ]\n",
      " [ 2.16622608  0.          0.         ...,  0.          0.          0.        ]]\n"
     ]
    }
   ],
   "source": [
    "print(params['shapes']['n_points'])\n",
    "params['shapes']['seed'] = 1\n",
    "label = create_torus_upper_distance_matrix(params)\n",
    "print(label)"
   ]
  },
  {
   "cell_type": "code",
   "execution_count": 24,
   "metadata": {
    "collapsed": false
   },
   "outputs": [
    {
     "name": "stdout",
     "output_type": "stream",
     "text": [
      "[ 0.95943432  0.80396089  0.03232307]\n"
     ]
    }
   ],
   "source": [
    "print(np.random.rand(3))"
   ]
  },
  {
   "cell_type": "code",
   "execution_count": 31,
   "metadata": {
    "collapsed": false
   },
   "outputs": [
    {
     "name": "stdout",
     "output_type": "stream",
     "text": [
      "create_shapes_and_their_PDs.ipynb params.mat\r\n",
      "params.ipynb                      params.pickle\r\n"
     ]
    }
   ],
   "source": [
    "a = 'ls'\n",
    "!{a}"
   ]
  },
  {
   "cell_type": "code",
   "execution_count": null,
   "metadata": {
    "collapsed": true
   },
   "outputs": [],
   "source": []
  }
 ],
 "metadata": {
  "kernelspec": {
   "display_name": "Python [Root]",
   "language": "python",
   "name": "Python [Root]"
  },
  "language_info": {
   "codemirror_mode": {
    "name": "ipython",
    "version": 3
   },
   "file_extension": ".py",
   "mimetype": "text/x-python",
   "name": "python",
   "nbconvert_exporter": "python",
   "pygments_lexer": "ipython3",
   "version": "3.5.2"
  }
 },
 "nbformat": 4,
 "nbformat_minor": 0
}
