{
 "cells": [
  {
   "cell_type": "code",
   "execution_count": 54,
   "metadata": {
    "collapsed": true
   },
   "outputs": [],
   "source": [
    "import matplotlib.pyplot as plt\n",
    "%matplotlib inline\n",
    "\n",
    "import numpy as np\n",
    "\n",
    "import pickle as pickle\n",
    "\n",
    "import sys\n",
    "path = '../../scripts/'\n",
    "sys.path.insert(0,path)\n",
    "from ripser_to_dict import *\n",
    "#from plot_persistence import *"
   ]
  },
  {
   "cell_type": "code",
   "execution_count": 55,
   "metadata": {
    "collapsed": true
   },
   "outputs": [],
   "source": [
    "with open('params.pickle', 'rb') as f:\n",
    "    params = pickle.load(f)"
   ]
  },
  {
   "cell_type": "markdown",
   "metadata": {},
   "source": [
    "## Functions"
   ]
  },
  {
   "cell_type": "code",
   "execution_count": 56,
   "metadata": {
    "collapsed": true
   },
   "outputs": [],
   "source": [
    "def get_label(string,params):\n",
    "    shapes = params['shapes']\n",
    "    label = 0\n",
    "    for name in shapes['names']:\n",
    "        if name == string:\n",
    "            break\n",
    "        else:\n",
    "            label += 1\n",
    "    return label"
   ]
  },
  {
   "cell_type": "code",
   "execution_count": 57,
   "metadata": {
    "collapsed": true
   },
   "outputs": [],
   "source": [
    "def create_circle_upper_distance_matrix(seed,params):\n",
    "    \n",
    "    # extract parameters\n",
    "    shapes = params['shapes']\n",
    "    label = get_label('circle', params)\n",
    "    dev = shapes['deviations'][label]\n",
    "    n_points = shapes['n_points']\n",
    "    \n",
    "    # seed the generator\n",
    "    np.random.seed(seed=seed)\n",
    "    \n",
    "    # construct unit circle, r=1±dev, 0<theta<2*pi\n",
    "    r = 1. - dev / 2. + dev * np.random.rand(n_points)\n",
    "    theta = 2. * np.pi * np.random.rand(n_points)\n",
    "    \n",
    "    # transform into Euclidean\n",
    "    x = r * np.cos(theta)\n",
    "    y = r * np.sin(theta)\n",
    "    \n",
    "    # calculate distances\n",
    "    upper_distance_matrix = np.zeros((n_points,n_points))\n",
    "    for i in range(n_points):\n",
    "        for j in range(n_points - i):\n",
    "            upper_distance_matrix[i,j] = np.sqrt((x[j] - x[i])**2 + (y[j] - y[i])**2)\n",
    "            \n",
    "    return upper_distance_matrix"
   ]
  },
  {
   "cell_type": "code",
   "execution_count": 58,
   "metadata": {
    "collapsed": true
   },
   "outputs": [],
   "source": [
    "def create_sphere_upper_distance_matrix(seed,params):\n",
    "    \n",
    "    # extract parameters\n",
    "    shapes = params['shapes']\n",
    "    label = get_label('sphere', params)\n",
    "    dev = shapes['deviations'][label]\n",
    "    n_points = shapes['n_points']\n",
    "    \n",
    "    # seed the generator\n",
    "    np.random.seed(seed=seed)\n",
    "    \n",
    "    # construct unit sphere in spherical coordinates: r=1±dev, 0<theta<pi, 0<phi<2*pi\n",
    "    r = 1. - dev / 2. + dev * np.random.rand(n_points)\n",
    "    theta = np.pi * np.random.rand(n_points)\n",
    "    phi = 2. * np.pi * np.random.rand(n_points)\n",
    "    \n",
    "    # transform into Euclidean\n",
    "    x = r * np.sin(theta) * np.cos(phi)\n",
    "    y = r * np.sin(theta) * np.sin(phi)\n",
    "    z = r * np.cos(theta)\n",
    "    \n",
    "    # calculate distances\n",
    "    upper_distance_matrix = np.zeros((n_points,n_points))\n",
    "    for i in range(n_points):\n",
    "        for j in range(n_points - i):\n",
    "            upper_distance_matrix[i,j] = np.sqrt((x[j] - x[i])**2 + (y[j] - y[i])**2 + (z[j] - [z[i]])**2)\n",
    "            \n",
    "    return upper_distance_matrix"
   ]
  },
  {
   "cell_type": "code",
   "execution_count": 59,
   "metadata": {
    "collapsed": true
   },
   "outputs": [],
   "source": [
    "def create_torus_upper_distance_matrix(seed,params):\n",
    "    \n",
    "    # extract parameters\n",
    "    shapes = params['shapes']\n",
    "    label = get_label('torus', params)\n",
    "    dev = shapes['deviations'][label]\n",
    "    n_points = shapes['n_points']\n",
    "    \n",
    "    # seed the generator\n",
    "    np.random.seed(seed=seed)\n",
    "    \n",
    "    # create noise\n",
    "    A = 1. - dev / 2. +  dev * np.random.rand(n_points)\n",
    "    \n",
    "    # construct 0<theta<2*pi, 0<phi<2*pi\n",
    "    theta = 2. * np.pi * np.random.rand(n_points)\n",
    "    phi = 2. * np.pi * np.random.rand(n_points)\n",
    "    \n",
    "    # construct torus in R4\n",
    "    x = A * np.cos(theta)\n",
    "    y = A * np.sin(theta)\n",
    "    z = A * np.cos(phi)\n",
    "    t = A * np.sin(phi)\n",
    "    \n",
    "    # calculate distances\n",
    "    upper_distance_matrix = np.zeros((n_points,n_points))\n",
    "    for i in range(n_points):\n",
    "        for j in range(n_points - i):\n",
    "            upper_distance_matrix[i,j] = np.sqrt((x[j] - x[i])**2 + (y[j] - y[i])**2\\\n",
    "                                                 + (z[j] - [z[i]])**2 + (t[j] - t[i])**2)\n",
    "            \n",
    "    return upper_distance_matrix"
   ]
  },
  {
   "cell_type": "markdown",
   "metadata": {},
   "source": [
    "## Run"
   ]
  },
  {
   "cell_type": "code",
   "execution_count": 61,
   "metadata": {
    "collapsed": false
   },
   "outputs": [],
   "source": [
    "for shape in params['shapes']['names']:\n",
    "    for seed in params['shapes']['all_seeds']:\n",
    "        if shape == 'circle':\n",
    "            distance_matrix = create_circle_upper_distance_matrix(seed,params)\n",
    "        elif shape == 'sphere':\n",
    "            distance_matrix = create_sphere_upper_distance_matrix(seed,params)\n",
    "        elif shape == 'torus':\n",
    "            distance_matrix = create_torus_upper_distance_matrix(seed,params)\n",
    "        np.savetxt(params['paths']['code_to_data'] + 'temp/distance.dat', distance_matrix, delimiter=',')\n",
    "\n",
    "        !cd {params['paths']['code_to_ripser']}; \\\n",
    "        ./ripser --format upper-distance --dim {params['ripser']['dim']} --threshold {params['ripser']['threshold']} \\\n",
    "        {params['paths']['ripser_to_data']}temp/distance.dat \\\n",
    "        > {params['paths']['ripser_to_data']}temp/persistence.txt\n",
    "\n",
    "        persistence = ripser_to_dict(params['paths']['code_to_data'] + 'temp/persistence.txt', params).copy()\n",
    "\n",
    "        with open(params['paths']['code_to_data'] + 'persistences/' + shape + '/' + str(seed) + '.txt', \"wb\") as f:\n",
    "            pickle.dump(persistence, f)"
   ]
  }
 ],
 "metadata": {
  "kernelspec": {
   "display_name": "Python [Root]",
   "language": "python",
   "name": "Python [Root]"
  },
  "language_info": {
   "codemirror_mode": {
    "name": "ipython",
    "version": 3
   },
   "file_extension": ".py",
   "mimetype": "text/x-python",
   "name": "python",
   "nbconvert_exporter": "python",
   "pygments_lexer": "ipython3",
   "version": "3.5.2"
  }
 },
 "nbformat": 4,
 "nbformat_minor": 0
}
