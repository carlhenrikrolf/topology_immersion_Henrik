{
 "cells": [
  {
   "cell_type": "markdown",
   "metadata": {},
   "source": [
    "# Random points on a sphere"
   ]
  },
  {
   "cell_type": "code",
   "execution_count": 29,
   "metadata": {
    "collapsed": true
   },
   "outputs": [],
   "source": [
    "# load packages\n",
    "import numpy as np"
   ]
  },
  {
   "cell_type": "code",
   "execution_count": 30,
   "metadata": {
    "collapsed": true
   },
   "outputs": [],
   "source": [
    "# parameters\n",
    "n_points = 200\n",
    "seed = 11"
   ]
  },
  {
   "cell_type": "markdown",
   "metadata": {},
   "source": [
    "## Perfect sphere"
   ]
  },
  {
   "cell_type": "code",
   "execution_count": 31,
   "metadata": {
    "collapsed": false
   },
   "outputs": [],
   "source": [
    "# construct perfect (unit) sphere in spherical coordinates: r=1, 0<theta<pi, 0<phi<2*pi\n",
    "np.random.seed(seed=seed)\n",
    "perfect_spherical_coords = np.random.rand(3,n_points)\n",
    "perfect_spherical_coords[0,:] = np.ones((1,n_points))\n",
    "perfect_spherical_coords[1,:] = perfect_spherical_coords[1,:]*np.pi\n",
    "perfect_spherical_coords[2,:] = perfect_spherical_coords[2,:]*2*np.pi"
   ]
  },
  {
   "cell_type": "code",
   "execution_count": 32,
   "metadata": {
    "collapsed": false
   },
   "outputs": [],
   "source": [
    "# transform perfect sphere into Euclidean coordinates\n",
    "perfect_Euclidean_coords = np.zeros((3,n_points))\n",
    "perfect_Euclidean_coords[0,:] = perfect_spherical_coords[0,:]*np.sin(perfect_spherical_coords[1,:])*np.cos(perfect_spherical_coords[2,:])\n",
    "perfect_Euclidean_coords[1,:] = perfect_spherical_coords[0,:]*np.sin(perfect_spherical_coords[1,:])*np.sin(perfect_spherical_coords[2,:])\n",
    "perfect_Euclidean_coords[2,:] = perfect_spherical_coords[0,:]*np.cos(perfect_spherical_coords[1,:])"
   ]
  },
  {
   "cell_type": "code",
   "execution_count": 33,
   "metadata": {
    "collapsed": false
   },
   "outputs": [],
   "source": [
    "# create distance matrix for the perfect sphere\n",
    "perfect_pairwise_distances = np.zeros((n_points,n_points))\n",
    "for i in range(n_points):\n",
    "    for j in range(n_points):\n",
    "        perfect_pairwise_distances[i,j] = np.sqrt((perfect_Euclidean_coords[0,j] - perfect_Euclidean_coords[0,i])**2 + (perfect_Euclidean_coords[1,j] - perfect_Euclidean_coords[1,i])**2 + (perfect_Euclidean_coords[2,j] - perfect_Euclidean_coords[2,i])**2)"
   ]
  },
  {
   "cell_type": "code",
   "execution_count": 34,
   "metadata": {
    "collapsed": false
   },
   "outputs": [],
   "source": [
    "# export to file\n",
    "np.savetxt(\"perfect_sphere_200x200_distance_matrix.txt\", perfect_pairwise_distances, delimiter=\",\")"
   ]
  },
  {
   "cell_type": "markdown",
   "metadata": {},
   "source": [
    "## Sphere with an error"
   ]
  },
  {
   "cell_type": "code",
   "execution_count": null,
   "metadata": {
    "collapsed": true
   },
   "outputs": [],
   "source": []
  }
 ],
 "metadata": {
  "kernelspec": {
   "display_name": "Python [Root]",
   "language": "python",
   "name": "Python [Root]"
  },
  "language_info": {
   "codemirror_mode": {
    "name": "ipython",
    "version": 3
   },
   "file_extension": ".py",
   "mimetype": "text/x-python",
   "name": "python",
   "nbconvert_exporter": "python",
   "pygments_lexer": "ipython3",
   "version": "3.5.2"
  }
 },
 "nbformat": 4,
 "nbformat_minor": 0
}
