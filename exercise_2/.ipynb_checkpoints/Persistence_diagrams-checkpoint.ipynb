{
 "cells": [
  {
   "cell_type": "code",
   "execution_count": 120,
   "metadata": {
    "collapsed": true
   },
   "outputs": [],
   "source": [
    "import numpy as np\n",
    "import matplotlib.pyplot as plt\n",
    "import matplotlib.pylab as plb\n",
    "%matplotlib inline"
   ]
  },
  {
   "cell_type": "code",
   "execution_count": 121,
   "metadata": {
    "collapsed": false
   },
   "outputs": [],
   "source": [
    "def ripser_to_dict(file,thr):\n",
    "    data = dict()\n",
    "    data['file'] = file\n",
    "    \n",
    "\n",
    "    with open(file, 'r') as f:\n",
    "        \n",
    "        # first line\n",
    "        line = f.readline()\n",
    "        word = line.split(' ')\n",
    "        data['nb_neuron'] = int(word[3])\n",
    "        \n",
    "        # second line\n",
    "        line = f.readline()\n",
    "        word = line.split(' ')\n",
    "        data['range'] = 'not implemented' #[float(w) for w in word[2][1:-2].split]\n",
    "\n",
    "        # parse until the end of the line\n",
    "        for line in f:\n",
    "            if 'persistence' in line:\n",
    "                key = int(line[29:-2])\n",
    "                data[key] = []\n",
    "            else:\n",
    "                word = line.split(',')\n",
    "                if not len(word) == 2:\n",
    "                    print('Unexpected number of word: ',word)\n",
    "                    break\n",
    "                if ' ' in word[1]:\n",
    "                    word_2 = thr\n",
    "                else:\n",
    "                    word_2 = float(word[1][:-2])\n",
    "                data[key].append([float(word[0][2:]),word_2])\n",
    "            \n",
    "    # post processing\n",
    "    temp = []\n",
    "    for k,v in data.items():\n",
    "        if v == []:\n",
    "            temp.append(k)\n",
    "        elif type(k) == int:\n",
    "            data[k] = np.array(v)\n",
    "            \n",
    "        for k in temp:\n",
    "            data.pop(k)\n",
    "        \n",
    "        return data\n",
    "            "
   ]
  },
  {
   "cell_type": "code",
   "execution_count": 122,
   "metadata": {
    "collapsed": false,
    "scrolled": false
   },
   "outputs": [],
   "source": [
    "data = ripser_to_dict('perfect_sphere_200x200_persistence_threshold_2.txt',2)"
   ]
  },
  {
   "cell_type": "code",
   "execution_count": 123,
   "metadata": {
    "collapsed": false
   },
   "outputs": [
    {
     "name": "stdout",
     "output_type": "stream",
     "text": [
      "[[0.736727, 1.6574], [0.309976, 0.31249]]\n"
     ]
    }
   ],
   "source": [
    "print(data[2])"
   ]
  },
  {
   "cell_type": "code",
   "execution_count": 154,
   "metadata": {
    "collapsed": false
   },
   "outputs": [],
   "source": [
    "def plot_persistence(data,thr,n_dim):\n",
    "    fig = plb.plot([0,thr],[0,thr])\n",
    "    for d in range(n_dim):\n",
    "        data_array = np.array(data[d])\n",
    "        fig = plb.plot(data_array[:,0],data_array[:,1],'o',label=str(d))\n",
    "        data_array = []\n",
    "    fig = plb.legend(loc=4)\n",
    "    fig = plb.xlabel('birth')\n",
    "    fig = plb.ylabel('death')"
   ]
  },
  {
   "cell_type": "code",
   "execution_count": 155,
   "metadata": {
    "collapsed": false
   },
   "outputs": [
    {
     "name": "stdout",
     "output_type": "stream",
     "text": [
      "[[0.736727, 1.6574], [0.309976, 0.31249]]\n",
      "[ 1.6574   0.31249]\n"
     ]
    }
   ],
   "source": [
    "print(data[2])\n",
    "data_array = np.array(data[2])\n",
    "print(data_array[:,1])"
   ]
  },
  {
   "cell_type": "code",
   "execution_count": 156,
   "metadata": {
    "collapsed": false
   },
   "outputs": [
    {
     "data": {
      "image/png": "[encoded data removed]",
      "text/plain": [
       "<matplotlib.figure.Figure at 0x11074ea58>"
      ]
     },
     "metadata": {},
     "output_type": "display_data"
    }
   ],
   "source": [
    "plot_persistence(data,2,4)"
   ]
  },
  {
   "cell_type": "code",
   "execution_count": null,
   "metadata": {
    "collapsed": true
   },
   "outputs": [],
   "source": []
  }
 ],
 "metadata": {
  "anaconda-cloud": {},
  "kernelspec": {
   "display_name": "Python [Root]",
   "language": "python",
   "name": "Python [Root]"
  },
  "language_info": {
   "codemirror_mode": {
    "name": "ipython",
    "version": 3
   },
   "file_extension": ".py",
   "mimetype": "text/x-python",
   "name": "python",
   "nbconvert_exporter": "python",
   "pygments_lexer": "ipython3",
   "version": "3.5.2"
  }
 },
 "nbformat": 4,
 "nbformat_minor": 0
}
